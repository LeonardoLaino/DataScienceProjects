{
 "cells": [
  {
   "cell_type": "markdown",
   "metadata": {},
   "source": [
    "## Introdução"
   ]
  },
  {
   "cell_type": "markdown",
   "metadata": {},
   "source": [
    "Aqui irei realizar a etapa de Feature Engineering na base de dados `bureau`.\n",
    "\n",
    "Esta etapa está dividida em kernels diferentes devido o consumo de memória para carregar e manipular as bases.\n",
    "\n",
    "Os procedimentos realizados nas outras bases podem ser encontrados nos arquivos `02_feat_eng_<nome-da-base>.ipynb`\n",
    "\n",
    "O objetivo desta etapa consiste, principalmente, em criar variáveis (`book de variáveis`). Ao criar novas variáveis com base nas variáveis existentes, é possível capturar informações adicionais que podem não estar explicitamente presentes nos dados originais.\n",
    "\n",
    "Devido o volume de dados, optei por utilizar o PySpark em conjunto com o SparkSQL para as operações a seguir."
   ]
  },
  {
   "cell_type": "markdown",
   "metadata": {},
   "source": [
    "* Sobre os Dados"
   ]
  },
  {
   "cell_type": "markdown",
   "metadata": {},
   "source": [
    "A base `bureau` possui dados de crédito de outras instituições financeiras.\n",
    "\n",
    "Segundo os Metadados disponibilizados, essas são as informações contidas aqui:\n",
    "\n",
    "``SK_BUREAU_ID``: ID recodificado do crédito do Bureau de Crédito (codificação única para cada aplicação) - Será usado para trazer os dados da tabela `bureau balance`.\n",
    "\n",
    "``SK_ID_CURR``: ID do empréstimo em nossa amostra - um empréstimo em nossa amostra pode ter 0, 1, 2 ou mais créditos anteriores relacionados no bureau de crédito.\n",
    "\n",
    "`CREDIT_ACTIVE`: Status dos créditos reportados pelo Bureau de Crédito (CB).\n",
    "\n",
    "`CREDIT_CURRENCY`: Moeda recodificada do crédito do Bureau de Crédito.\n",
    "\n",
    "`DAYS_CREDIT`: Quantos dias antes da aplicação atual o cliente solicitou crédito ao Bureau de Crédito.\n",
    "\n",
    "`CREDIT_DAY_OVERDUE`: Número de dias em atraso no crédito do CB no momento da aplicação para o empréstimo relacionado em nossa amostra.\n",
    "\n",
    "`DAYS_CREDIT_ENDDATE`: Duração restante do crédito do CB (em dias) no momento da aplicação no Home Credit.\n",
    "\n",
    "`DAYS_ENDDATE_FACT`: Dias desde que o crédito do CB foi encerrado no momento da aplicação no Home Credit (apenas para créditos encerrados).\n",
    "\n",
    "`AMT_CREDIT_MAX_OVERDUE`: Valor máximo em atraso no crédito do Bureau de Crédito até o momento (na data de aplicação do empréstimo em nossa amostra).\n",
    "\n",
    "`CNT_CREDIT_PROLONG`: Quantas vezes o crédito do Bureau de Crédito foi prolongado.\n",
    "\n",
    "`AMT_CREDIT_SUM`: Valor atual do crédito para o crédito do Bureau de Crédito.\n",
    "\n",
    "`AMT_CREDIT_SUM_DEBT`: Dívida atual no crédito do Bureau de Crédito.\n",
    "\n",
    "`AMT_CREDIT_SUM_LIMIT`: Limite de crédito atual do cartão de crédito relatado no Bureau de Crédito.\n",
    "\n",
    "`AMT_CREDIT_SUM_OVERDUE`: Valor atual em atraso no crédito do Bureau de Crédito.\n",
    "\n",
    "`CREDIT_TYPE`: Tipo de crédito do Bureau de Crédito (Carro, dinheiro, ...).\n",
    "\n",
    "`DAYS_CREDIT_UPDATE`: Quantos dias antes da aplicação do empréstimo foi recebida a última informação sobre o crédito do Bureau de Crédito.\n",
    "\n",
    "`AMT_ANNUITY`: Anuidade do crédito do Bureau de Crédito."
   ]
  },
  {
   "cell_type": "markdown",
   "metadata": {},
   "source": [
    "## Utils"
   ]
  },
  {
   "cell_type": "markdown",
   "metadata": {},
   "source": [
    "* Importando as bibliotecas que irei utilizar"
   ]
  },
  {
   "cell_type": "code",
   "execution_count": 1,
   "metadata": {},
   "outputs": [],
   "source": [
    "import os\n",
    "import findspark\n",
    "findspark.init()\n",
    "from pyspark.sql import SparkSession\n",
    "from pyspark.sql.functions import when,min, max, sum, round, col, median, count\n",
    "spark = SparkSession.builder \\\n",
    "    .appName(\"FeatureEng\") \\\n",
    "    .config(\"spark.executor.memory\", \"14g\") \\\n",
    "    .config(\"spark.driver.memory\", \"14g\") \\\n",
    "    .getOrCreate()\n",
    "from warnings import filterwarnings\n",
    "filterwarnings('ignore')"
   ]
  },
  {
   "cell_type": "markdown",
   "metadata": {},
   "source": [
    "## Feature Engineering - Bureau Balance"
   ]
  },
  {
   "cell_type": "code",
   "execution_count": 2,
   "metadata": {},
   "outputs": [
    {
     "data": {
      "text/plain": [
       "1716428"
      ]
     },
     "execution_count": 2,
     "metadata": {},
     "output_type": "execute_result"
    }
   ],
   "source": [
    "bureau = spark.read.csv('./DATASETS/bureau.csv', inferSchema= True, header= True)\n",
    "bureau.count()"
   ]
  },
  {
   "cell_type": "code",
   "execution_count": 3,
   "metadata": {},
   "outputs": [
    {
     "name": "stdout",
     "output_type": "stream",
     "text": [
      "+----------+------------+-------------+---------------+-----------+------------------+-------------------+-----------------+----------------------+------------------+--------------+-------------------+--------------------+----------------------+---------------+------------------+-----------+\n",
      "|SK_ID_CURR|SK_ID_BUREAU|CREDIT_ACTIVE|CREDIT_CURRENCY|DAYS_CREDIT|CREDIT_DAY_OVERDUE|DAYS_CREDIT_ENDDATE|DAYS_ENDDATE_FACT|AMT_CREDIT_MAX_OVERDUE|CNT_CREDIT_PROLONG|AMT_CREDIT_SUM|AMT_CREDIT_SUM_DEBT|AMT_CREDIT_SUM_LIMIT|AMT_CREDIT_SUM_OVERDUE|    CREDIT_TYPE|DAYS_CREDIT_UPDATE|AMT_ANNUITY|\n",
      "+----------+------------+-------------+---------------+-----------+------------------+-------------------+-----------------+----------------------+------------------+--------------+-------------------+--------------------+----------------------+---------------+------------------+-----------+\n",
      "|    215354|     5714462|       Closed|     currency 1|       -497|                 0|             -153.0|           -153.0|                  null|                 0|       91323.0|                0.0|                null|                   0.0|Consumer credit|              -131|       null|\n",
      "|    215354|     5714463|       Active|     currency 1|       -208|                 0|             1075.0|             null|                  null|                 0|      225000.0|           171342.0|                null|                   0.0|    Credit card|               -20|       null|\n",
      "|    215354|     5714464|       Active|     currency 1|       -203|                 0|              528.0|             null|                  null|                 0|      464323.5|               null|                null|                   0.0|Consumer credit|               -16|       null|\n",
      "|    215354|     5714465|       Active|     currency 1|       -203|                 0|               null|             null|                  null|                 0|       90000.0|               null|                null|                   0.0|    Credit card|               -16|       null|\n",
      "|    215354|     5714466|       Active|     currency 1|       -629|                 0|             1197.0|             null|               77674.5|                 0|     2700000.0|               null|                null|                   0.0|Consumer credit|               -21|       null|\n",
      "|    215354|     5714467|       Active|     currency 1|       -273|                 0|            27460.0|             null|                   0.0|                 0|      180000.0|           71017.38|           108982.62|                   0.0|    Credit card|               -31|       null|\n",
      "|    215354|     5714468|       Active|     currency 1|        -43|                 0|               79.0|             null|                   0.0|                 0|       42103.8|            42103.8|                 0.0|                   0.0|Consumer credit|               -22|       null|\n",
      "|    162297|     5714469|       Closed|     currency 1|      -1896|                 0|            -1684.0|          -1710.0|               14985.0|                 0|      76878.45|                0.0|                 0.0|                   0.0|Consumer credit|             -1710|       null|\n",
      "|    162297|     5714470|       Closed|     currency 1|      -1146|                 0|             -811.0|           -840.0|                   0.0|                 0|      103007.7|                0.0|                 0.0|                   0.0|Consumer credit|              -840|       null|\n",
      "|    162297|     5714471|       Active|     currency 1|      -1146|                 0|             -484.0|             null|                   0.0|                 0|        4500.0|                0.0|                 0.0|                   0.0|    Credit card|              -690|       null|\n",
      "+----------+------------+-------------+---------------+-----------+------------------+-------------------+-----------------+----------------------+------------------+--------------+-------------------+--------------------+----------------------+---------------+------------------+-----------+\n",
      "only showing top 10 rows\n",
      "\n"
     ]
    }
   ],
   "source": [
    "bureau.show(n=10)"
   ]
  },
  {
   "cell_type": "markdown",
   "metadata": {},
   "source": [
    "* Checando a quantidade de linhas da tabela final (para validação posterior)"
   ]
  },
  {
   "cell_type": "code",
   "execution_count": 3,
   "metadata": {},
   "outputs": [
    {
     "data": {
      "text/plain": [
       "1716428"
      ]
     },
     "execution_count": 3,
     "metadata": {},
     "output_type": "execute_result"
    }
   ],
   "source": [
    "bureau.groupBy(\"SK_ID_BUREAU\").count().count()"
   ]
  },
  {
   "cell_type": "markdown",
   "metadata": {},
   "source": [
    "* Verificando o Schema"
   ]
  },
  {
   "cell_type": "code",
   "execution_count": 5,
   "metadata": {},
   "outputs": [
    {
     "name": "stdout",
     "output_type": "stream",
     "text": [
      "root\n",
      " |-- SK_ID_CURR: integer (nullable = true)\n",
      " |-- SK_ID_BUREAU: integer (nullable = true)\n",
      " |-- CREDIT_ACTIVE: string (nullable = true)\n",
      " |-- CREDIT_CURRENCY: string (nullable = true)\n",
      " |-- DAYS_CREDIT: integer (nullable = true)\n",
      " |-- CREDIT_DAY_OVERDUE: integer (nullable = true)\n",
      " |-- DAYS_CREDIT_ENDDATE: double (nullable = true)\n",
      " |-- DAYS_ENDDATE_FACT: double (nullable = true)\n",
      " |-- AMT_CREDIT_MAX_OVERDUE: double (nullable = true)\n",
      " |-- CNT_CREDIT_PROLONG: integer (nullable = true)\n",
      " |-- AMT_CREDIT_SUM: double (nullable = true)\n",
      " |-- AMT_CREDIT_SUM_DEBT: double (nullable = true)\n",
      " |-- AMT_CREDIT_SUM_LIMIT: double (nullable = true)\n",
      " |-- AMT_CREDIT_SUM_OVERDUE: double (nullable = true)\n",
      " |-- CREDIT_TYPE: string (nullable = true)\n",
      " |-- DAYS_CREDIT_UPDATE: integer (nullable = true)\n",
      " |-- AMT_ANNUITY: double (nullable = true)\n",
      "\n"
     ]
    }
   ],
   "source": [
    "bureau.printSchema()"
   ]
  },
  {
   "cell_type": "markdown",
   "metadata": {},
   "source": [
    "### 2. Criação de Flags Temporais"
   ]
  },
  {
   "cell_type": "code",
   "execution_count": 4,
   "metadata": {},
   "outputs": [
    {
     "data": {
      "text/plain": [
       "1716428"
      ]
     },
     "execution_count": 4,
     "metadata": {},
     "output_type": "execute_result"
    }
   ],
   "source": [
    "# Criando uma View\n",
    "bureau.createOrReplaceTempView('bureau')\n",
    "\n",
    "temp01 = spark.sql(\"\"\"\n",
    "SELECT\n",
    "    *,\n",
    "        CASE\n",
    "            WHEN DAYS_CREDIT >= -90 THEN 1\n",
    "        ELSE 0\n",
    "    END AS FL_U3M,\n",
    "        CASE\n",
    "            WHEN DAYS_CREDIT >= -180 THEN 1\n",
    "        ELSE 0\n",
    "    END AS FL_U6M,\n",
    "        CASE\n",
    "            WHEN DAYS_CREDIT >= -270 THEN 1\n",
    "        ELSE 0\n",
    "    END AS FL_U9M,\n",
    "        CASE\n",
    "            WHEN DAYS_CREDIT >= -360 THEN 1\n",
    "        ELSE 0\n",
    "    END AS FL_U12M\n",
    "FROM\n",
    "    bureau\n",
    "ORDER BY\n",
    "    `SK_ID_BUREAU`;\n",
    "\"\"\")\n",
    "\n",
    "temp01.createOrReplaceTempView('temp01')\n",
    "temp01.count()"
   ]
  },
  {
   "cell_type": "code",
   "execution_count": 6,
   "metadata": {},
   "outputs": [
    {
     "name": "stdout",
     "output_type": "stream",
     "text": [
      "+----------+------------+-------------+---------------+-----------+------------------+-------------------+-----------------+----------------------+------------------+--------------+-------------------+--------------------+----------------------+---------------+------------------+-----------+------+------+------+-------+\n",
      "|SK_ID_CURR|SK_ID_BUREAU|CREDIT_ACTIVE|CREDIT_CURRENCY|DAYS_CREDIT|CREDIT_DAY_OVERDUE|DAYS_CREDIT_ENDDATE|DAYS_ENDDATE_FACT|AMT_CREDIT_MAX_OVERDUE|CNT_CREDIT_PROLONG|AMT_CREDIT_SUM|AMT_CREDIT_SUM_DEBT|AMT_CREDIT_SUM_LIMIT|AMT_CREDIT_SUM_OVERDUE|    CREDIT_TYPE|DAYS_CREDIT_UPDATE|AMT_ANNUITY|FL_U3M|FL_U6M|FL_U9M|FL_U12M|\n",
      "+----------+------------+-------------+---------------+-----------+------------------+-------------------+-----------------+----------------------+------------------+--------------+-------------------+--------------------+----------------------+---------------+------------------+-----------+------+------+------+-------+\n",
      "|    166497|     5000000|       Closed|     currency 1|      -2918|                 0|            -2613.0|          -2639.0|                  null|                 0|       29443.5|                0.0|                null|                   0.0|Consumer credit|             -2512|       null|     0|     0|     0|      0|\n",
      "|    166497|     5000001|       Closed|     currency 1|      -1015|                 0|             -831.0|           -891.0|              2223.855|                 0|       13810.5|                0.0|                 0.0|                   0.0|Consumer credit|              -891|       null|     0|     0|     0|      0|\n",
      "|    166497|     5000002|       Closed|     currency 1|       -149|                 0|              -26.0|            -26.0|                   0.0|                 0|       13455.0|                0.0|                 0.0|                   0.0|Consumer credit|               -23|       null|     0|     1|     1|      1|\n",
      "|    166497|     5000003|       Closed|     currency 1|       -135|                 0|              230.0|            -42.0|                   0.0|                 0|       37350.0|                0.0|                 0.0|                   0.0|Consumer credit|               -42|       null|     0|     1|     1|      1|\n",
      "|    166497|     5000004|       Active|     currency 1|        -47|                 0|              320.0|             null|                   0.0|                 0|     315127.62|          315127.62|                 0.0|                   0.0|Consumer credit|               -17|       null|     1|     1|     1|      1|\n",
      "+----------+------------+-------------+---------------+-----------+------------------+-------------------+-----------------+----------------------+------------------+--------------+-------------------+--------------------+----------------------+---------------+------------------+-----------+------+------+------+-------+\n",
      "only showing top 5 rows\n",
      "\n"
     ]
    }
   ],
   "source": [
    "temp01.show(n=5)"
   ]
  },
  {
   "cell_type": "markdown",
   "metadata": {},
   "source": [
    "### 3. Criação das Flags das Variáveis Categóricas"
   ]
  },
  {
   "cell_type": "code",
   "execution_count": 8,
   "metadata": {},
   "outputs": [],
   "source": [
    "# # Lista para armazenar as colunas criadas\n",
    "# flags = []\n",
    "\n",
    "# # Pegando todas as colunas categoricas da tabela\n",
    "# cat_cols = [cat_col[0] for cat_col in temp01.dtypes if cat_col[1] == 'string']\n",
    "\n",
    "# # Gerando as colunas Flag\n",
    "# for cat_col in cat_cols:\n",
    "#     unique_vals = [col[0] for col in temp01.select(cat_col).distinct().collect()]\n",
    "\n",
    "#     for unique_val in unique_vals:\n",
    "#         flags.append(when(col(cat_col) == unique_val, 1).otherwise(0).alias(f'FL_CAT_{cat_col}_{unique_val.upper().replace(\" \", \"_\")}'))"
   ]
  },
  {
   "cell_type": "markdown",
   "metadata": {},
   "source": [
    "* Realizando o Unpacking e Criando a Tabela"
   ]
  },
  {
   "cell_type": "code",
   "execution_count": 9,
   "metadata": {},
   "outputs": [],
   "source": [
    "# temp02 = temp01.select(\"*\", *flags)"
   ]
  },
  {
   "cell_type": "code",
   "execution_count": 5,
   "metadata": {},
   "outputs": [],
   "source": [
    "# Aqui irei filtrar todas as colunas categoricas para remove-las da agregação posteriormente.\n",
    "# Essa decisão foi tomada por questões computacionais.\n",
    "cat_cols = [cat_col[0] for cat_col in temp01.dtypes if cat_col[1] == 'string']\n",
    "\n",
    "temp02 = temp01"
   ]
  },
  {
   "cell_type": "markdown",
   "metadata": {},
   "source": [
    "### 4. Criação das Variáveis (Agrupadas)"
   ]
  },
  {
   "cell_type": "markdown",
   "metadata": {},
   "source": [
    "* Filtrando as colunas que serão agregadas"
   ]
  },
  {
   "cell_type": "code",
   "execution_count": 6,
   "metadata": {},
   "outputs": [],
   "source": [
    "# Selecionando as variáveis que serão agregadas (exceto Flags e IDs)\n",
    "agg_cols = [col for col in temp02.columns if (\"FL_\" not in col) & (\"SK_ID\" not in col)]\n",
    "\n",
    "# Removendo a Coluna de Janela Temporal\n",
    "agg_cols.remove('DAYS_CREDIT')\n",
    "\n",
    "# Removendo as colunas categóricas que tiveram flags criadas\n",
    "for cat_col in cat_cols:\n",
    "    agg_cols.remove(cat_col)\n",
    "\n",
    "for col in [cat_col[0] for cat_col in temp01.dtypes if cat_col[1] == 'string']:\n",
    "    try:\n",
    "        agg_cols.remove(col)\n",
    "    except:\n",
    "        pass"
   ]
  },
  {
   "cell_type": "code",
   "execution_count": 7,
   "metadata": {},
   "outputs": [],
   "source": [
    "flags_temporais = ['FL_U3M', 'FL_U6M', 'FL_U9M','FL_U12M']\n",
    "\n",
    "flags_categoricas = [col for col in temp02.columns if 'FL_CAT_' in col]"
   ]
  },
  {
   "cell_type": "markdown",
   "metadata": {},
   "source": [
    "#### 4.1 Usando Apenas Flags Temporais"
   ]
  },
  {
   "cell_type": "code",
   "execution_count": 10,
   "metadata": {},
   "outputs": [
    {
     "data": {
      "text/plain": [
       "1716428"
      ]
     },
     "execution_count": 10,
     "metadata": {},
     "output_type": "execute_result"
    }
   ],
   "source": [
    "new_cols = []\n",
    "\n",
    "for flag_temp in flags_temporais:\n",
    "    nome_flag_temp_corrigido = flag_temp.replace('FL_','')\n",
    "\n",
    "    for agg_col in agg_cols:\n",
    "\n",
    "        if 'DPD' in agg_col:\n",
    "            new_cols.append(round(max(when(col(flag_temp) == 1, col(agg_col))),2).alias(f\"QT_MAX_{agg_col}_{nome_flag_temp_corrigido}\"))\n",
    "            new_cols.append(round(min(when(col(flag_temp) == 1, col(agg_col))),2).alias(f\"QT_MIN_{agg_col}_{nome_flag_temp_corrigido}\"))\n",
    "        else:\n",
    "            new_cols.append(round(max(when(col(flag_temp) == 1, col(agg_col))),2).alias(f\"VL_MAX_{agg_col}_{nome_flag_temp_corrigido}\"))\n",
    "            new_cols.append(round(min(when(col(flag_temp) == 1, col(agg_col))),2).alias(f\"VL_MIN_{agg_col}_{nome_flag_temp_corrigido}\"))\n",
    "            new_cols.append(round(sum(when(col(flag_temp) == 1, col(agg_col))),2).alias(f\"VL_SUM_{agg_col}_{nome_flag_temp_corrigido}\"))\n",
    "            new_cols.append(round(median(when(col(flag_temp) == 1, col(agg_col))),2).alias(f\"VL_MD_{agg_col}_{nome_flag_temp_corrigido}\"))\n",
    "\n",
    "\n",
    "new_cols = tuple(new_cols)\n",
    "\n",
    "temp03 = temp02.groupBy(\"SK_ID_BUREAU\").agg(*new_cols).orderBy(\"SK_ID_BUREAU\")\n",
    "\n",
    "temp03.count()"
   ]
  },
  {
   "cell_type": "code",
   "execution_count": 11,
   "metadata": {},
   "outputs": [
    {
     "name": "stdout",
     "output_type": "stream",
     "text": [
      "Quantidade de Vars. Criadas: 177\n"
     ]
    }
   ],
   "source": [
    "print(\"Quantidade de Vars. Criadas:\",len(temp03.columns))"
   ]
  },
  {
   "cell_type": "code",
   "execution_count": 17,
   "metadata": {},
   "outputs": [],
   "source": [
    "# temp03 = temp03.repartition(1)\n",
    "# temp03.write.mode(\"overwrite\").option(\"compression\", \"gzip\").parquet(\"./VARS/BUREAU/FL_TEMPORAL\")"
   ]
  },
  {
   "cell_type": "code",
   "execution_count": 18,
   "metadata": {},
   "outputs": [],
   "source": [
    "# temp03.show(n=10)"
   ]
  },
  {
   "cell_type": "markdown",
   "metadata": {},
   "source": [
    "#### 4.2 Usando Apenas Flags Categóricas"
   ]
  },
  {
   "cell_type": "code",
   "execution_count": 19,
   "metadata": {},
   "outputs": [
    {
     "data": {
      "text/plain": [
       "1716428"
      ]
     },
     "execution_count": 19,
     "metadata": {},
     "output_type": "execute_result"
    }
   ],
   "source": [
    "# new_cols = []\n",
    "\n",
    "# for cat_flag in flags_categoricas:\n",
    "#     nome_flag_cat_corrigido = cat_flag.replace('FL_CAT_','')\n",
    "#     for agg_col in agg_cols:\n",
    "#         if 'DPD' in agg_col:\n",
    "#             new_cols.append(round(max(when(col(cat_flag) == 1, col(agg_col))),2).alias(f\"QT_MAX_{agg_col}_{nome_flag_cat_corrigido}\"))\n",
    "#             new_cols.append(round(min(when(col(cat_flag) == 1, col(agg_col))),2).alias(f\"QT_MIN_{agg_col}_{nome_flag_cat_corrigido}\"))\n",
    "#         else:\n",
    "#             new_cols.append(round(max(when(col(cat_flag) == 1, col(agg_col))),2).alias(f\"VL_MAX_{agg_col}_{nome_flag_cat_corrigido}\"))\n",
    "#             new_cols.append(round(min(when(col(cat_flag) == 1, col(agg_col))),2).alias(f\"VL_MIN_{agg_col}_{nome_flag_cat_corrigido}\"))\n",
    "#             new_cols.append(round(sum(when(col(cat_flag) == 1, col(agg_col))),2).alias(f\"VL_SUM_{agg_col}_{nome_flag_cat_corrigido}\"))\n",
    "#             new_cols.append(round(median(when(col(cat_flag) == 1, col(agg_col))),2).alias(f\"VL_MD_{agg_col}_{nome_flag_cat_corrigido}\"))\n",
    "\n",
    "# new_cols = tuple(new_cols)\n",
    "\n",
    "# temp04 = temp02.groupBy(\"SK_ID_BUREAU\").agg(*new_cols).orderBy(\"SK_ID_BUREAU\")\n",
    "\n",
    "# temp04.count()"
   ]
  },
  {
   "cell_type": "code",
   "execution_count": 20,
   "metadata": {},
   "outputs": [
    {
     "name": "stdout",
     "output_type": "stream",
     "text": [
      "Quantidade de Vars. Criadas: 837\n"
     ]
    }
   ],
   "source": [
    "# print(\"Quantidade de Vars. Criadas:\",len(temp04.columns))"
   ]
  },
  {
   "cell_type": "code",
   "execution_count": 21,
   "metadata": {},
   "outputs": [],
   "source": [
    "# temp04 = temp04.repartition(1)\n",
    "# temp04.write.mode(\"overwrite\").option(\"compression\", \"gzip\").parquet(\"./VARS/BUREAU/FL_CATEGORICA\")"
   ]
  },
  {
   "cell_type": "code",
   "execution_count": 22,
   "metadata": {},
   "outputs": [],
   "source": [
    "# temp04.show(n=10)"
   ]
  },
  {
   "cell_type": "markdown",
   "metadata": {},
   "source": [
    "### 5. Juntando as Tabelas"
   ]
  },
  {
   "cell_type": "markdown",
   "metadata": {},
   "source": [
    "* Juntando as tabelas das agregações"
   ]
  },
  {
   "cell_type": "code",
   "execution_count": 23,
   "metadata": {},
   "outputs": [],
   "source": [
    "# temp05 = temp04.join(temp03, on= \"SK_ID_BUREAU\", how = 'left')"
   ]
  },
  {
   "cell_type": "code",
   "execution_count": 24,
   "metadata": {},
   "outputs": [
    {
     "data": {
      "text/plain": [
       "(1716428, 1013)"
      ]
     },
     "execution_count": 24,
     "metadata": {},
     "output_type": "execute_result"
    }
   ],
   "source": [
    "# temp05.count(), len(temp05.columns)"
   ]
  },
  {
   "cell_type": "markdown",
   "metadata": {},
   "source": [
    "* Carregando a Bureau Balance"
   ]
  },
  {
   "cell_type": "code",
   "execution_count": 12,
   "metadata": {},
   "outputs": [
    {
     "data": {
      "text/plain": [
       "(817395, 33)"
      ]
     },
     "execution_count": 12,
     "metadata": {},
     "output_type": "execute_result"
    }
   ],
   "source": [
    "bureau_balance_agg = spark.read.parquet('./BASES_FEAT_ENG/BUREAU_BALANCE_FEAT_ENG')\n",
    "bureau_balance_agg.count(), len(bureau_balance_agg.columns)"
   ]
  },
  {
   "cell_type": "markdown",
   "metadata": {},
   "source": [
    "* Juntando com a Bureau Balance"
   ]
  },
  {
   "cell_type": "code",
   "execution_count": 13,
   "metadata": {},
   "outputs": [],
   "source": [
    "temp06 = temp03.join(bureau_balance_agg, on= \"SK_ID_BUREAU\", how = \"left\")"
   ]
  },
  {
   "cell_type": "code",
   "execution_count": 14,
   "metadata": {},
   "outputs": [
    {
     "data": {
      "text/plain": [
       "(1716428, 209)"
      ]
     },
     "execution_count": 14,
     "metadata": {},
     "output_type": "execute_result"
    }
   ],
   "source": [
    "temp06.count(), len(temp06.columns)"
   ]
  },
  {
   "cell_type": "code",
   "execution_count": 28,
   "metadata": {},
   "outputs": [],
   "source": [
    "# temp06.show(n=5)"
   ]
  },
  {
   "cell_type": "code",
   "execution_count": 15,
   "metadata": {},
   "outputs": [],
   "source": [
    "# Trazendo a Chave para conexão com as demais tabelas (SK_ID_CURR)\n",
    "temp02 = temp02.select(\"SK_ID_BUREAU\", \"SK_ID_CURR\")"
   ]
  },
  {
   "cell_type": "code",
   "execution_count": 16,
   "metadata": {},
   "outputs": [
    {
     "data": {
      "text/plain": [
       "1716428"
      ]
     },
     "execution_count": 16,
     "metadata": {},
     "output_type": "execute_result"
    }
   ],
   "source": [
    "temp07 = temp06.join(other= temp02, on= \"SK_ID_BUREAU\", how= \"left\")\n",
    "temp07.count()"
   ]
  },
  {
   "cell_type": "code",
   "execution_count": 17,
   "metadata": {},
   "outputs": [
    {
     "data": {
      "text/plain": [
       "(1716428, 210)"
      ]
     },
     "execution_count": 17,
     "metadata": {},
     "output_type": "execute_result"
    }
   ],
   "source": [
    "temp07.count(), len(temp07.columns)"
   ]
  },
  {
   "cell_type": "markdown",
   "metadata": {},
   "source": [
    "### 6. Agregações na Tabela Final"
   ]
  },
  {
   "cell_type": "markdown",
   "metadata": {},
   "source": [
    "* Liberando Espaço na memória (Tabelas que não serão mais utilizadas)"
   ]
  },
  {
   "cell_type": "code",
   "execution_count": 18,
   "metadata": {},
   "outputs": [],
   "source": [
    "agg_cols = temp07.columns\n",
    "\n",
    "agg_cols.remove(\"SK_ID_CURR\")\n",
    "agg_cols.remove(\"SK_ID_BUREAU\")\n",
    "\n",
    "new_cols = []\n",
    "\n",
    "for agg_col in agg_cols:\n",
    "  if 'DAY' in agg_col:\n",
    "    new_cols.append(round(max(col(agg_col)), 2).alias(f\"QT_MAX_{agg_col.upper()}_BUREAU\"))\n",
    "    new_cols.append(round(min(col(agg_col)), 2).alias(f\"QT_MIN_{agg_col.upper()}_BUREAU\"))\n",
    "  else:\n",
    "    new_cols.append(round(sum(col(agg_col)), 2).alias(f\"VL_TOT_{agg_col.upper()}_BUREAU\"))\n",
    "    new_cols.append(round(median(col(agg_col)), 2).alias(f\"VL_MED_{agg_col.upper()}_BUREAU\"))\n",
    "    new_cols.append(round(max(col(agg_col)), 2).alias(f\"VL_MAX_{agg_col.upper()}_BUREAU\"))\n",
    "    new_cols.append(round(min(col(agg_col)), 2).alias(f\"VL_MIN_{agg_col.upper()}_BUREAU\"))\n",
    "\n",
    "\n",
    "new_cols = tuple(new_cols)"
   ]
  },
  {
   "cell_type": "code",
   "execution_count": 19,
   "metadata": {},
   "outputs": [
    {
     "data": {
      "text/plain": [
       "305811"
      ]
     },
     "execution_count": 19,
     "metadata": {},
     "output_type": "execute_result"
    }
   ],
   "source": [
    "bureau_agg = temp07.groupBy(\"SK_ID_CURR\").agg(*new_cols).orderBy(\"SK_ID_CURR\")\n",
    "bureau_agg.count()"
   ]
  },
  {
   "cell_type": "code",
   "execution_count": 20,
   "metadata": {},
   "outputs": [],
   "source": [
    "bureau_agg = bureau_agg.repartition(1)\n",
    "bureau_agg.write.mode('overwrite').parquet(\"./BASES_FEAT_ENG/BUREAU_FEAT_ENG\")"
   ]
  }
 ],
 "metadata": {
  "kernelspec": {
   "display_name": "base",
   "language": "python",
   "name": "python3"
  },
  "language_info": {
   "codemirror_mode": {
    "name": "ipython",
    "version": 3
   },
   "file_extension": ".py",
   "mimetype": "text/x-python",
   "name": "python",
   "nbconvert_exporter": "python",
   "pygments_lexer": "ipython3",
   "version": "3.9.18"
  }
 },
 "nbformat": 4,
 "nbformat_minor": 2
}
