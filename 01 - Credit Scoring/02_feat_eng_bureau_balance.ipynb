{
 "cells": [
  {
   "cell_type": "markdown",
   "metadata": {},
   "source": [
    "## Introdução"
   ]
  },
  {
   "cell_type": "markdown",
   "metadata": {},
   "source": [
    "Aqui irei realizar a etapa de Feature Engineering na base de dados `bureau_balance`.\n",
    "\n",
    "Esta etapa está dividida em kernels diferentes devido o consumo de memória para carregar e manipular as bases.\n",
    "\n",
    "Os procedimentos realizados nas outras bases podem ser encontrados nos arquivos `02_feat_eng_<nome-da-base>.ipynb`\n",
    "\n",
    "O objetivo desta etapa consiste, principalmente, em criar variáveis (`book de variáveis`). Ao criar novas variáveis com base nas variáveis existentes, é possível capturar informações adicionais que podem não estar explicitamente presentes nos dados originais.\n",
    "\n",
    "Devido o volume de dados, optei por utilizar o PySpark em conjunto com o SparkSQL para as operações a seguir."
   ]
  },
  {
   "cell_type": "markdown",
   "metadata": {},
   "source": [
    "* Sobre os Dados"
   ]
  },
  {
   "cell_type": "markdown",
   "metadata": {},
   "source": [
    "A base `bureau balance` possui informações mensais sobre créditos anteriores do cliente em outras instituições financeiras.\n",
    "\n",
    "Segundo os Metadados disponibilizados, essas são as informações contidas aqui:\n",
    "\n",
    "``SK_BUREAU_ID``: ID recodificado do crédito do Bureau de Crédito (codificação única para cada aplicação) - Será usado para fazer a junção com a tabela `BUREAU`.\n",
    "\n",
    "\n",
    "``MONTHS_BALANCE``: Mês do saldo em relação à data de aplicação (-1 significa a data de saldo mais recente).\n",
    "\n",
    "\n",
    "``STATUS``: Status do empréstimo do Bureau de Crédito durante o mês (ativo, fechado, DPD0-30,... [C significa fechado, X significa status desconhecido, 0 significa sem DPD, 1 significa atraso máximo durante o mês entre 1-30, 2 significa DPD 31-60,... 5 significa DPD 120+ ou vendido ou baixado])."
   ]
  },
  {
   "cell_type": "markdown",
   "metadata": {},
   "source": [
    "## Utils"
   ]
  },
  {
   "cell_type": "markdown",
   "metadata": {},
   "source": [
    "* Importando as bibliotecas que irei utilizar"
   ]
  },
  {
   "cell_type": "code",
   "execution_count": 1,
   "metadata": {},
   "outputs": [],
   "source": [
    "import os\n",
    "import findspark\n",
    "findspark.init()\n",
    "from pyspark.sql import SparkSession\n",
    "from pyspark.sql.functions import when,min, max, sum, round, col, median, count\n",
    "spark = SparkSession.builder \\\n",
    "    .appName(\"FeatureEng\") \\\n",
    "    .config(\"spark.executor.memory\", \"14g\") \\\n",
    "    .config(\"spark.driver.memory\", \"14g\") \\\n",
    "    .getOrCreate()\n",
    "from warnings import filterwarnings\n",
    "filterwarnings('ignore')"
   ]
  },
  {
   "cell_type": "markdown",
   "metadata": {},
   "source": [
    "## Feature Engineering - Bureau Balance"
   ]
  },
  {
   "cell_type": "code",
   "execution_count": 2,
   "metadata": {},
   "outputs": [
    {
     "data": {
      "text/plain": [
       "27299925"
      ]
     },
     "execution_count": 2,
     "metadata": {},
     "output_type": "execute_result"
    }
   ],
   "source": [
    "bureau_balance = spark.read.csv('./DATASETS/bureau_balance.csv', inferSchema= True, header= True)\n",
    "bureau_balance.count()"
   ]
  },
  {
   "cell_type": "code",
   "execution_count": 3,
   "metadata": {},
   "outputs": [
    {
     "name": "stdout",
     "output_type": "stream",
     "text": [
      "+------------+--------------+------+\n",
      "|SK_ID_BUREAU|MONTHS_BALANCE|STATUS|\n",
      "+------------+--------------+------+\n",
      "|     5715448|             0|     C|\n",
      "|     5715448|            -1|     C|\n",
      "|     5715448|            -2|     C|\n",
      "|     5715448|            -3|     C|\n",
      "|     5715448|            -4|     C|\n",
      "|     5715448|            -5|     C|\n",
      "|     5715448|            -6|     C|\n",
      "|     5715448|            -7|     C|\n",
      "|     5715448|            -8|     C|\n",
      "|     5715448|            -9|     0|\n",
      "+------------+--------------+------+\n",
      "only showing top 10 rows\n",
      "\n"
     ]
    }
   ],
   "source": [
    "bureau_balance.show(n=10)"
   ]
  },
  {
   "cell_type": "markdown",
   "metadata": {},
   "source": [
    "* Checando a quantidade de linhas da tabela final (para validação posterior)"
   ]
  },
  {
   "cell_type": "code",
   "execution_count": 4,
   "metadata": {},
   "outputs": [
    {
     "data": {
      "text/plain": [
       "817395"
      ]
     },
     "execution_count": 4,
     "metadata": {},
     "output_type": "execute_result"
    }
   ],
   "source": [
    "bureau_balance.groupBy(\"SK_ID_BUREAU\").count().count()"
   ]
  },
  {
   "cell_type": "markdown",
   "metadata": {},
   "source": [
    "### 2. Criação de Flags Temporais"
   ]
  },
  {
   "cell_type": "code",
   "execution_count": 5,
   "metadata": {},
   "outputs": [
    {
     "data": {
      "text/plain": [
       "27299925"
      ]
     },
     "execution_count": 5,
     "metadata": {},
     "output_type": "execute_result"
    }
   ],
   "source": [
    "# Criando uma View\n",
    "bureau_balance.createOrReplaceTempView('bureau_balance')\n",
    "\n",
    "temp01 = spark.sql(\"\"\"\n",
    "SELECT\n",
    "    *,\n",
    "        CASE\n",
    "            WHEN MONTHS_BALANCE >= -3 THEN 1\n",
    "        ELSE 0\n",
    "    END AS FL_U3M,\n",
    "        CASE\n",
    "            WHEN MONTHS_BALANCE >= -6 THEN 1\n",
    "        ELSE 0\n",
    "    END AS FL_U6M,\n",
    "        CASE\n",
    "            WHEN MONTHS_BALANCE >= -9 THEN 1\n",
    "        ELSE 0\n",
    "    END AS FL_U9M,\n",
    "        CASE\n",
    "            WHEN MONTHS_BALANCE >= -12 THEN 1\n",
    "        ELSE 0\n",
    "    END AS FL_U12M\n",
    "FROM\n",
    "    bureau_balance\n",
    "ORDER BY\n",
    "    `SK_ID_BUREAU`;\n",
    "\"\"\")\n",
    "\n",
    "temp01.createOrReplaceTempView('temp01')\n",
    "temp01.count()"
   ]
  },
  {
   "cell_type": "code",
   "execution_count": 6,
   "metadata": {},
   "outputs": [
    {
     "name": "stdout",
     "output_type": "stream",
     "text": [
      "+------------+--------------+------+------+------+------+-------+\n",
      "|SK_ID_BUREAU|MONTHS_BALANCE|STATUS|FL_U3M|FL_U6M|FL_U9M|FL_U12M|\n",
      "+------------+--------------+------+------+------+------+-------+\n",
      "|     5001709|             0|     C|     1|     1|     1|      1|\n",
      "|     5001709|            -5|     C|     0|     1|     1|      1|\n",
      "|     5001709|            -1|     C|     1|     1|     1|      1|\n",
      "|     5001709|            -2|     C|     1|     1|     1|      1|\n",
      "|     5001709|            -3|     C|     1|     1|     1|      1|\n",
      "+------------+--------------+------+------+------+------+-------+\n",
      "only showing top 5 rows\n",
      "\n"
     ]
    }
   ],
   "source": [
    "temp01.show(n=5)"
   ]
  },
  {
   "cell_type": "markdown",
   "metadata": {},
   "source": [
    "### 3. Criação das Flags das Variáveis Categóricas"
   ]
  },
  {
   "cell_type": "code",
   "execution_count": 7,
   "metadata": {},
   "outputs": [],
   "source": [
    "# Lista para armazenar as colunas criadas\n",
    "flags = []\n",
    "\n",
    "# Pegando todas as colunas categoricas da tabela\n",
    "cat_cols = [cat_col[0] for cat_col in temp01.dtypes if cat_col[1] == 'string']\n",
    "\n",
    "# Gerando as colunas Flag\n",
    "for cat_col in cat_cols:\n",
    "    unique_vals = [col[0] for col in temp01.select(cat_col).distinct().collect()]\n",
    "\n",
    "    for unique_val in unique_vals:\n",
    "        flags.append(when(col(cat_col) == unique_val, 1).otherwise(0).alias(f'FL_CAT_{cat_col}_{unique_val.upper().replace(\" \", \"_\")}'))"
   ]
  },
  {
   "cell_type": "markdown",
   "metadata": {},
   "source": [
    "* Realizando o Unpacking e Criando a Tabela"
   ]
  },
  {
   "cell_type": "code",
   "execution_count": 8,
   "metadata": {},
   "outputs": [],
   "source": [
    "temp02 = temp01.select(\"*\", *flags)"
   ]
  },
  {
   "cell_type": "code",
   "execution_count": 9,
   "metadata": {},
   "outputs": [
    {
     "name": "stdout",
     "output_type": "stream",
     "text": [
      "+------------+--------------+------+------+------+------+-------+---------------+---------------+---------------+---------------+---------------+---------------+---------------+---------------+\n",
      "|SK_ID_BUREAU|MONTHS_BALANCE|STATUS|FL_U3M|FL_U6M|FL_U9M|FL_U12M|FL_CAT_STATUS_3|FL_CAT_STATUS_0|FL_CAT_STATUS_5|FL_CAT_STATUS_C|FL_CAT_STATUS_X|FL_CAT_STATUS_1|FL_CAT_STATUS_4|FL_CAT_STATUS_2|\n",
      "+------------+--------------+------+------+------+------+-------+---------------+---------------+---------------+---------------+---------------+---------------+---------------+---------------+\n",
      "|     5001709|             0|     C|     1|     1|     1|      1|              0|              0|              0|              1|              0|              0|              0|              0|\n",
      "|     5001709|            -5|     C|     0|     1|     1|      1|              0|              0|              0|              1|              0|              0|              0|              0|\n",
      "|     5001709|            -1|     C|     1|     1|     1|      1|              0|              0|              0|              1|              0|              0|              0|              0|\n",
      "|     5001709|            -2|     C|     1|     1|     1|      1|              0|              0|              0|              1|              0|              0|              0|              0|\n",
      "|     5001709|            -3|     C|     1|     1|     1|      1|              0|              0|              0|              1|              0|              0|              0|              0|\n",
      "+------------+--------------+------+------+------+------+-------+---------------+---------------+---------------+---------------+---------------+---------------+---------------+---------------+\n",
      "only showing top 5 rows\n",
      "\n"
     ]
    }
   ],
   "source": [
    "temp02.show(n=5)"
   ]
  },
  {
   "cell_type": "markdown",
   "metadata": {},
   "source": [
    "### 4. Criação das Variáveis (Agrupadas)"
   ]
  },
  {
   "cell_type": "markdown",
   "metadata": {},
   "source": [
    "* Filtrando as colunas que serão agregadas"
   ]
  },
  {
   "cell_type": "code",
   "execution_count": 10,
   "metadata": {},
   "outputs": [],
   "source": [
    "flags_temporais = ['FL_U3M', 'FL_U6M', 'FL_U9M','FL_U12M']\n",
    "\n",
    "flags_categoricas = [col for col in temp02.columns if 'FL_CAT_' in col]"
   ]
  },
  {
   "cell_type": "code",
   "execution_count": 11,
   "metadata": {},
   "outputs": [
    {
     "data": {
      "text/plain": [
       "817395"
      ]
     },
     "execution_count": 11,
     "metadata": {},
     "output_type": "execute_result"
    }
   ],
   "source": [
    "new_cols = []\n",
    "\n",
    "\n",
    "for temp_flag in flags_temporais:\n",
    "    nome_temp_flag = temp_flag.replace(\"FL_\",\"\").upper()\n",
    "    for cat_flag in flags_categoricas:\n",
    "        nome_cat_flag = cat_flag.replace(\"FL_CAT_\",\"\").upper()\n",
    "        new_cols.append(round(count(when(col(temp_flag) == 1, col(cat_flag))),2).alias(f\"QT_{nome_cat_flag}_{nome_temp_flag}\"))\n",
    "\n",
    "new_cols = tuple(new_cols)\n",
    "\n",
    "temp03 = temp02.groupBy(\"SK_ID_BUREAU\").agg(*new_cols).orderBy(\"SK_ID_BUREAU\")\n",
    "\n",
    "temp03.count()"
   ]
  },
  {
   "cell_type": "code",
   "execution_count": 12,
   "metadata": {},
   "outputs": [
    {
     "name": "stdout",
     "output_type": "stream",
     "text": [
      "Quantidade de Vars. Criadas: 33\n"
     ]
    }
   ],
   "source": [
    "print(\"Quantidade de Vars. Criadas:\",len(temp03.columns))"
   ]
  },
  {
   "cell_type": "code",
   "execution_count": 13,
   "metadata": {},
   "outputs": [
    {
     "name": "stdout",
     "output_type": "stream",
     "text": [
      "+------------+---------------+---------------+---------------+---------------+---------------+---------------+---------------+---------------+---------------+---------------+---------------+---------------+---------------+---------------+---------------+---------------+---------------+---------------+---------------+---------------+---------------+---------------+---------------+---------------+----------------+----------------+----------------+----------------+----------------+----------------+----------------+----------------+\n",
      "|SK_ID_BUREAU|QT_STATUS_3_U3M|QT_STATUS_0_U3M|QT_STATUS_5_U3M|QT_STATUS_C_U3M|QT_STATUS_X_U3M|QT_STATUS_1_U3M|QT_STATUS_4_U3M|QT_STATUS_2_U3M|QT_STATUS_3_U6M|QT_STATUS_0_U6M|QT_STATUS_5_U6M|QT_STATUS_C_U6M|QT_STATUS_X_U6M|QT_STATUS_1_U6M|QT_STATUS_4_U6M|QT_STATUS_2_U6M|QT_STATUS_3_U9M|QT_STATUS_0_U9M|QT_STATUS_5_U9M|QT_STATUS_C_U9M|QT_STATUS_X_U9M|QT_STATUS_1_U9M|QT_STATUS_4_U9M|QT_STATUS_2_U9M|QT_STATUS_3_U12M|QT_STATUS_0_U12M|QT_STATUS_5_U12M|QT_STATUS_C_U12M|QT_STATUS_X_U12M|QT_STATUS_1_U12M|QT_STATUS_4_U12M|QT_STATUS_2_U12M|\n",
      "+------------+---------------+---------------+---------------+---------------+---------------+---------------+---------------+---------------+---------------+---------------+---------------+---------------+---------------+---------------+---------------+---------------+---------------+---------------+---------------+---------------+---------------+---------------+---------------+---------------+----------------+----------------+----------------+----------------+----------------+----------------+----------------+----------------+\n",
      "|     5001709|              4|              4|              4|              4|              4|              4|              4|              4|              7|              7|              7|              7|              7|              7|              7|              7|             10|             10|             10|             10|             10|             10|             10|             10|              13|              13|              13|              13|              13|              13|              13|              13|\n",
      "|     5001710|              4|              4|              4|              4|              4|              4|              4|              4|              7|              7|              7|              7|              7|              7|              7|              7|             10|             10|             10|             10|             10|             10|             10|             10|              13|              13|              13|              13|              13|              13|              13|              13|\n",
      "|     5001711|              4|              4|              4|              4|              4|              4|              4|              4|              4|              4|              4|              4|              4|              4|              4|              4|              4|              4|              4|              4|              4|              4|              4|              4|               4|               4|               4|               4|               4|               4|               4|               4|\n",
      "|     5001712|              4|              4|              4|              4|              4|              4|              4|              4|              7|              7|              7|              7|              7|              7|              7|              7|             10|             10|             10|             10|             10|             10|             10|             10|              13|              13|              13|              13|              13|              13|              13|              13|\n",
      "|     5001713|              4|              4|              4|              4|              4|              4|              4|              4|              7|              7|              7|              7|              7|              7|              7|              7|             10|             10|             10|             10|             10|             10|             10|             10|              13|              13|              13|              13|              13|              13|              13|              13|\n",
      "|     5001714|              4|              4|              4|              4|              4|              4|              4|              4|              7|              7|              7|              7|              7|              7|              7|              7|             10|             10|             10|             10|             10|             10|             10|             10|              13|              13|              13|              13|              13|              13|              13|              13|\n",
      "|     5001715|              4|              4|              4|              4|              4|              4|              4|              4|              7|              7|              7|              7|              7|              7|              7|              7|             10|             10|             10|             10|             10|             10|             10|             10|              13|              13|              13|              13|              13|              13|              13|              13|\n",
      "|     5001716|              4|              4|              4|              4|              4|              4|              4|              4|              7|              7|              7|              7|              7|              7|              7|              7|             10|             10|             10|             10|             10|             10|             10|             10|              13|              13|              13|              13|              13|              13|              13|              13|\n",
      "|     5001717|              4|              4|              4|              4|              4|              4|              4|              4|              7|              7|              7|              7|              7|              7|              7|              7|             10|             10|             10|             10|             10|             10|             10|             10|              13|              13|              13|              13|              13|              13|              13|              13|\n",
      "|     5001718|              4|              4|              4|              4|              4|              4|              4|              4|              7|              7|              7|              7|              7|              7|              7|              7|             10|             10|             10|             10|             10|             10|             10|             10|              13|              13|              13|              13|              13|              13|              13|              13|\n",
      "+------------+---------------+---------------+---------------+---------------+---------------+---------------+---------------+---------------+---------------+---------------+---------------+---------------+---------------+---------------+---------------+---------------+---------------+---------------+---------------+---------------+---------------+---------------+---------------+---------------+----------------+----------------+----------------+----------------+----------------+----------------+----------------+----------------+\n",
      "only showing top 10 rows\n",
      "\n"
     ]
    }
   ],
   "source": [
    "temp03.show(n=10)"
   ]
  },
  {
   "cell_type": "markdown",
   "metadata": {},
   "source": [
    "### 5. Salvando a Tabela Final"
   ]
  },
  {
   "cell_type": "code",
   "execution_count": 14,
   "metadata": {},
   "outputs": [],
   "source": [
    "bureau_balance_agg = temp03.repartition(1)\n",
    "\n",
    "bureau_balance_agg.write.mode('overwrite').option(\"compression\", \"gzip\").parquet(\"./BASES_FEAT_ENG/BUREAU_BALANCE_FEAT_ENG\")"
   ]
  }
 ],
 "metadata": {
  "kernelspec": {
   "display_name": "base",
   "language": "python",
   "name": "python3"
  },
  "language_info": {
   "codemirror_mode": {
    "name": "ipython",
    "version": 3
   },
   "file_extension": ".py",
   "mimetype": "text/x-python",
   "name": "python",
   "nbconvert_exporter": "python",
   "pygments_lexer": "ipython3",
   "version": "3.9.18"
  }
 },
 "nbformat": 4,
 "nbformat_minor": 2
}
