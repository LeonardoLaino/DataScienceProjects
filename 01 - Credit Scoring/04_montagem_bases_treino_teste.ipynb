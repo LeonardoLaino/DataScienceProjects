{
 "cells": [
  {
   "cell_type": "markdown",
   "metadata": {},
   "source": [
    "# Utils"
   ]
  },
  {
   "cell_type": "code",
   "execution_count": 1,
   "metadata": {},
   "outputs": [],
   "source": [
    "import pickle\n",
    "from tqdm import tqdm\n",
    "import pandas as pd\n",
    "import numpy as np\n",
    "import os\n",
    "from feature_selection_functions import amostragem, remove_highly_correlated_features, generate_metadata, variancia, vars_selection\n",
    "import findspark\n",
    "findspark.init()\n",
    "from pyspark.sql import SparkSession\n",
    "spark = SparkSession.builder \\\n",
    "    .appName(\"FeatureEng\") \\\n",
    "    .config(\"spark.executor.memory\", \"14g\") \\\n",
    "    .config(\"spark.driver.memory\", \"14g\") \\\n",
    "    .getOrCreate()\n",
    "from warnings import filterwarnings\n",
    "filterwarnings('ignore')\n",
    "from random import seed\n",
    "seed(1)"
   ]
  },
  {
   "cell_type": "code",
   "execution_count": 2,
   "metadata": {},
   "outputs": [],
   "source": [
    "# Função para criar lotes de colunas\n",
    "def criar_lotes(lista, tamanho):\n",
    "    \n",
    "    qtd = len(lista) // tamanho\n",
    "    residuo = len(lista) % tamanho\n",
    "    lotes = []\n",
    "    slice_start = 0\n",
    "    slice_end = tamanho\n",
    "\n",
    "    for _ in range(1,qtd+2):\n",
    "        if _ == (qtd+2):\n",
    "            lotes.append(lista[len(lista) - residuo:len(lista)-1])\n",
    "            break\n",
    "\n",
    "        lotes.append(lista[slice_start:slice_end])\n",
    "        slice_start+= tamanho\n",
    "        slice_end+= tamanho\n",
    "    \n",
    "    return lotes"
   ]
  },
  {
   "cell_type": "markdown",
   "metadata": {},
   "source": [
    "# Loading"
   ]
  },
  {
   "cell_type": "markdown",
   "metadata": {},
   "source": [
    "* Carregando os Dados"
   ]
  },
  {
   "cell_type": "code",
   "execution_count": 3,
   "metadata": {},
   "outputs": [],
   "source": [
    "# Tabela com os dados do Bureau, após feature engineering\n",
    "bureau = spark.read.parquet('./BASES_TREINO_TESTE/BUREAU_FEAT_ENG')\n",
    "\n",
    "# Tabela com os dados de Previous Application (POSCASH Balance, Instalments Payments e Credit Card Balance)\n",
    "# Após feat. eng.\n",
    "prev_app = spark.read.parquet('./BASES_TREINO_TESTE/PREV_APP_AGG_FEAT_ENG')\n",
    "\n",
    "# Base de Treino (Application Train)\n",
    "app_train = spark.read.csv('./DATASETS/application_train.csv', header= True, inferSchema= True)"
   ]
  },
  {
   "cell_type": "markdown",
   "metadata": {},
   "source": [
    "* Fazendo o Join"
   ]
  },
  {
   "cell_type": "code",
   "execution_count": 4,
   "metadata": {},
   "outputs": [
    {
     "data": {
      "text/plain": [
       "(215257, 10964)"
      ]
     },
     "execution_count": 4,
     "metadata": {},
     "output_type": "execute_result"
    }
   ],
   "source": [
    "app_train_final = app_train.join(other= prev_app, on= \"SK_ID_CURR\", how= 'left').join(other= bureau, on= \"SK_ID_CURR\", how= 'left')\n",
    "app_train_final.count(), len(app_train_final.columns)"
   ]
  },
  {
   "cell_type": "markdown",
   "metadata": {},
   "source": [
    "* Liberando Memória"
   ]
  },
  {
   "cell_type": "code",
   "execution_count": 5,
   "metadata": {},
   "outputs": [
    {
     "data": {
      "text/plain": [
       "21"
      ]
     },
     "execution_count": 5,
     "metadata": {},
     "output_type": "execute_result"
    }
   ],
   "source": [
    "from gc import collect\n",
    "del(bureau, prev_app, app_train)\n",
    "collect()"
   ]
  },
  {
   "cell_type": "markdown",
   "metadata": {},
   "source": [
    "# Feature Selection"
   ]
  },
  {
   "cell_type": "markdown",
   "metadata": {},
   "source": [
    "* Aqui irei realizar a seleção de variáveis em lotes, em vista do tamanho da tabela final e das limitações computacionais."
   ]
  },
  {
   "cell_type": "markdown",
   "metadata": {},
   "source": [
    "* Salvando o nome das colunas da tabela final"
   ]
  },
  {
   "cell_type": "code",
   "execution_count": 6,
   "metadata": {},
   "outputs": [
    {
     "data": {
      "text/plain": [
       "10962"
      ]
     },
     "execution_count": 6,
     "metadata": {},
     "output_type": "execute_result"
    }
   ],
   "source": [
    "# Pegando todas as colunas da tabela final\n",
    "app_train_final_cols = app_train_final.columns\n",
    "\n",
    "app_train_final_cols.remove('SK_ID_CURR')\n",
    "app_train_final_cols.remove('TARGET')\n",
    "\n",
    "# Verificando o tamanho final\n",
    "len(app_train_final_cols)"
   ]
  },
  {
   "cell_type": "markdown",
   "metadata": {},
   "source": [
    "* Pegando um recorte da tabela final"
   ]
  },
  {
   "cell_type": "code",
   "execution_count": 22,
   "metadata": {},
   "outputs": [
    {
     "name": "stderr",
     "output_type": "stream",
     "text": [
      "  0%|          | 0/22 [00:00<?, ?it/s]"
     ]
    },
    {
     "name": "stderr",
     "output_type": "stream",
     "text": [
      "  5%|▍         | 1/22 [07:14<2:32:04, 434.49s/it]"
     ]
    },
    {
     "name": "stdout",
     "output_type": "stream",
     "text": [
      "Vars Selecionadas: 93\n"
     ]
    },
    {
     "name": "stderr",
     "output_type": "stream",
     "text": [
      "  9%|▉         | 2/22 [07:38<1:04:23, 193.16s/it]"
     ]
    },
    {
     "name": "stdout",
     "output_type": "stream",
     "text": [
      "Vars Selecionadas: 95\n"
     ]
    },
    {
     "name": "stderr",
     "output_type": "stream",
     "text": [
      " 14%|█▎        | 3/22 [07:55<35:40, 112.64s/it]  "
     ]
    },
    {
     "name": "stdout",
     "output_type": "stream",
     "text": [
      "Vars Selecionadas: 95\n"
     ]
    },
    {
     "name": "stderr",
     "output_type": "stream",
     "text": [
      " 18%|█▊        | 4/22 [08:35<25:12, 84.02s/it] "
     ]
    },
    {
     "name": "stdout",
     "output_type": "stream",
     "text": [
      "Vars Selecionadas: 102\n"
     ]
    },
    {
     "name": "stderr",
     "output_type": "stream",
     "text": [
      " 23%|██▎       | 5/22 [09:07<18:25, 65.03s/it]"
     ]
    },
    {
     "name": "stdout",
     "output_type": "stream",
     "text": [
      "Vars Selecionadas: 117\n"
     ]
    },
    {
     "name": "stderr",
     "output_type": "stream",
     "text": [
      " 27%|██▋       | 6/22 [09:25<13:08, 49.27s/it]"
     ]
    },
    {
     "name": "stdout",
     "output_type": "stream",
     "text": [
      "Vars Selecionadas: 120\n"
     ]
    },
    {
     "name": "stderr",
     "output_type": "stream",
     "text": [
      " 32%|███▏      | 7/22 [09:47<10:05, 40.36s/it]"
     ]
    },
    {
     "name": "stdout",
     "output_type": "stream",
     "text": [
      "Vars Selecionadas: 126\n"
     ]
    },
    {
     "name": "stderr",
     "output_type": "stream",
     "text": [
      " 36%|███▋      | 8/22 [10:19<08:46, 37.57s/it]"
     ]
    },
    {
     "name": "stdout",
     "output_type": "stream",
     "text": [
      "Vars Selecionadas: 140\n"
     ]
    },
    {
     "name": "stderr",
     "output_type": "stream",
     "text": [
      " 41%|████      | 9/22 [10:37<06:51, 31.65s/it]"
     ]
    },
    {
     "name": "stdout",
     "output_type": "stream",
     "text": [
      "Vars Selecionadas: 140\n"
     ]
    },
    {
     "name": "stderr",
     "output_type": "stream",
     "text": [
      " 45%|████▌     | 10/22 [10:54<05:22, 26.83s/it]"
     ]
    },
    {
     "name": "stdout",
     "output_type": "stream",
     "text": [
      "Vars Selecionadas: 140\n"
     ]
    },
    {
     "name": "stderr",
     "output_type": "stream",
     "text": [
      " 50%|█████     | 11/22 [11:10<04:21, 23.81s/it]"
     ]
    },
    {
     "name": "stdout",
     "output_type": "stream",
     "text": [
      "Vars Selecionadas: 140\n"
     ]
    },
    {
     "name": "stderr",
     "output_type": "stream",
     "text": [
      " 55%|█████▍    | 12/22 [11:28<03:39, 21.94s/it]"
     ]
    },
    {
     "name": "stdout",
     "output_type": "stream",
     "text": [
      "Vars Selecionadas: 140\n"
     ]
    },
    {
     "name": "stderr",
     "output_type": "stream",
     "text": [
      " 59%|█████▉    | 13/22 [11:46<03:06, 20.73s/it]"
     ]
    },
    {
     "name": "stdout",
     "output_type": "stream",
     "text": [
      "Vars Selecionadas: 140\n"
     ]
    },
    {
     "name": "stderr",
     "output_type": "stream",
     "text": [
      " 64%|██████▎   | 14/22 [12:02<02:33, 19.19s/it]"
     ]
    },
    {
     "name": "stdout",
     "output_type": "stream",
     "text": [
      "Vars Selecionadas: 140\n"
     ]
    },
    {
     "name": "stderr",
     "output_type": "stream",
     "text": [
      " 68%|██████▊   | 15/22 [12:17<02:06, 18.10s/it]"
     ]
    },
    {
     "name": "stdout",
     "output_type": "stream",
     "text": [
      "Vars Selecionadas: 140\n"
     ]
    },
    {
     "name": "stderr",
     "output_type": "stream",
     "text": [
      " 73%|███████▎  | 16/22 [13:04<02:40, 26.74s/it]"
     ]
    },
    {
     "name": "stdout",
     "output_type": "stream",
     "text": [
      "Vars Selecionadas: 160\n"
     ]
    },
    {
     "name": "stderr",
     "output_type": "stream",
     "text": [
      " 77%|███████▋  | 17/22 [13:31<02:14, 26.83s/it]"
     ]
    },
    {
     "name": "stdout",
     "output_type": "stream",
     "text": [
      "Vars Selecionadas: 173\n"
     ]
    },
    {
     "name": "stderr",
     "output_type": "stream",
     "text": [
      " 82%|████████▏ | 18/22 [14:12<02:03, 30.92s/it]"
     ]
    },
    {
     "name": "stdout",
     "output_type": "stream",
     "text": [
      "Vars Selecionadas: 189\n"
     ]
    },
    {
     "name": "stderr",
     "output_type": "stream",
     "text": [
      " 86%|████████▋ | 19/22 [14:27<01:18, 26.12s/it]"
     ]
    },
    {
     "name": "stdout",
     "output_type": "stream",
     "text": [
      "Vars Selecionadas: 189\n"
     ]
    },
    {
     "name": "stderr",
     "output_type": "stream",
     "text": [
      " 91%|█████████ | 20/22 [14:58<00:55, 27.78s/it]"
     ]
    },
    {
     "name": "stdout",
     "output_type": "stream",
     "text": [
      "Vars Selecionadas: 203\n"
     ]
    },
    {
     "name": "stderr",
     "output_type": "stream",
     "text": [
      " 95%|█████████▌| 21/22 [15:20<00:25, 25.91s/it]"
     ]
    },
    {
     "name": "stdout",
     "output_type": "stream",
     "text": [
      "Vars Selecionadas: 208\n"
     ]
    },
    {
     "name": "stderr",
     "output_type": "stream",
     "text": [
      "100%|██████████| 22/22 [16:13<00:00, 44.23s/it]"
     ]
    },
    {
     "name": "stdout",
     "output_type": "stream",
     "text": [
      "Vars Selecionadas: 218\n"
     ]
    },
    {
     "name": "stderr",
     "output_type": "stream",
     "text": [
      "\n"
     ]
    }
   ],
   "source": [
    "lotes = criar_lotes(app_train_final_cols, 500)\n",
    "\n",
    "variaveis_selecionadas = []\n",
    "\n",
    "for lote in tqdm(lotes):\n",
    "    lote.append('SK_ID_CURR')\n",
    "    lote.append('TARGET')\n",
    "\n",
    "    temp01 = app_train_final.select(*lote).toPandas()\n",
    "\n",
    "    selecao = vars_selection(temp01, percentual_preenchimento= 80, threshold= 0.5, tamanho_amostragem= 90000)\n",
    "\n",
    "    if not selecao.empty:\n",
    "        for variavel in selecao['Variável']:\n",
    "            variaveis_selecionadas.append(variavel)\n",
    "    else:\n",
    "        pass\n",
    "    print(\"Vars Selecionadas:\", len(variaveis_selecionadas))"
   ]
  },
  {
   "cell_type": "markdown",
   "metadata": {},
   "source": [
    "* Aqui conseguimos passar de 10900 variáveis para 218!"
   ]
  },
  {
   "cell_type": "code",
   "execution_count": 25,
   "metadata": {},
   "outputs": [],
   "source": [
    "# Adicionando novamente o ID e o Target\n",
    "variaveis_selecionadas.append('TARGET')\n",
    "variaveis_selecionadas.append('SK_ID_CURR')"
   ]
  },
  {
   "cell_type": "code",
   "execution_count": 30,
   "metadata": {},
   "outputs": [],
   "source": [
    "app_train_final_selected = app_train_final.select(*variaveis_selecionadas)"
   ]
  },
  {
   "cell_type": "code",
   "execution_count": 31,
   "metadata": {},
   "outputs": [],
   "source": [
    "# Salvando a Application Train Final com as Vars. Selecionadas\n",
    "app_train_final_selected = app_train_final_selected.repartition(1)\n",
    "app_train_final_selected.write.parquet('./BASES_TREINO_TESTE/APPLICATION_TRAIN_FINAL')"
   ]
  },
  {
   "cell_type": "code",
   "execution_count": 33,
   "metadata": {},
   "outputs": [
    {
     "data": {
      "text/plain": [
       "(215257, 220)"
      ]
     },
     "execution_count": 33,
     "metadata": {},
     "output_type": "execute_result"
    }
   ],
   "source": [
    "# Vendo o tamanho da Tabela\n",
    "app_train_final_selected.count(), len(app_train_final_selected.columns)"
   ]
  },
  {
   "cell_type": "code",
   "execution_count": 36,
   "metadata": {},
   "outputs": [],
   "source": [
    "with open('./ARTEFATOS/vars_selecionadas_apptrain.pickle', 'wb') as arquivo:\n",
    "    pickle.dump(variaveis_selecionadas, arquivo)"
   ]
  },
  {
   "cell_type": "markdown",
   "metadata": {},
   "source": [
    "* Fazendo o mesmo para a Application Test"
   ]
  },
  {
   "cell_type": "code",
   "execution_count": 2,
   "metadata": {},
   "outputs": [],
   "source": [
    "# Tabela com os dados do Bureau, após feature engineering\n",
    "bureau = spark.read.parquet('./BASES_TREINO_TESTE/BUREAU_FEAT_ENG')\n",
    "\n",
    "# Tabela com os dados de Previous Application (POSCASH Balance, Instalments Payments e Credit Card Balance)\n",
    "# Após feat. eng.\n",
    "prev_app = spark.read.parquet('./BASES_TREINO_TESTE/PREV_APP_AGG_FEAT_ENG')\n",
    "\n",
    "# Base de Teste (Application Train)\n",
    "app_test = spark.read.csv('./DATASETS/application_test.csv', header= True, inferSchema= True)"
   ]
  },
  {
   "cell_type": "code",
   "execution_count": 16,
   "metadata": {},
   "outputs": [],
   "source": [
    "with open('./ARTEFATOS/vars_selecionadas_apptrain.pickle', 'rb') as arquivo:\n",
    "    variaveis_selecionadas = pickle.load(arquivo)"
   ]
  },
  {
   "cell_type": "code",
   "execution_count": 5,
   "metadata": {},
   "outputs": [
    {
     "data": {
      "text/plain": [
       "(92254, 10963)"
      ]
     },
     "execution_count": 5,
     "metadata": {},
     "output_type": "execute_result"
    }
   ],
   "source": [
    "app_test_final = app_test.join(other= prev_app, on= \"SK_ID_CURR\", how= 'left').join(other= bureau, on= \"SK_ID_CURR\", how= 'left')\n",
    "app_test_final.count(), len(app_test_final.columns)"
   ]
  },
  {
   "cell_type": "markdown",
   "metadata": {},
   "source": [
    "* Filtrando apenas as variáveis selecionadas"
   ]
  },
  {
   "cell_type": "code",
   "execution_count": 17,
   "metadata": {},
   "outputs": [],
   "source": [
    "variaveis_selecionadas.remove('TARGET')\n",
    "\n",
    "app_test_final_selected = app_test_final.select(*variaveis_selecionadas)\n",
    "\n",
    "app_test_final_selected = app_test_final_selected.repartition(1)\n",
    "\n",
    "app_test_final_selected.write.parquet('./BASES_TREINO_TESTE/APPLICATION_TEST_FINAL')"
   ]
  }
 ],
 "metadata": {
  "kernelspec": {
   "display_name": "base",
   "language": "python",
   "name": "python3"
  },
  "language_info": {
   "codemirror_mode": {
    "name": "ipython",
    "version": 3
   },
   "file_extension": ".py",
   "mimetype": "text/x-python",
   "name": "python",
   "nbconvert_exporter": "python",
   "pygments_lexer": "ipython3",
   "version": "3.9.18"
  }
 },
 "nbformat": 4,
 "nbformat_minor": 2
}
