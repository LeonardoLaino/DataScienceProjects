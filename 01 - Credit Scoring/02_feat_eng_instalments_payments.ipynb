{
 "cells": [
  {
   "cell_type": "markdown",
   "metadata": {},
   "source": [
    "## Introdução"
   ]
  },
  {
   "cell_type": "markdown",
   "metadata": {},
   "source": [
    "Aqui irei realizar a etapa de Feature Engineering na base de dados `instalments_payments`.\n",
    "\n",
    "Esta etapa está dividida em arquivos diferentes devido o consumo de memória para carregar e manipular as bases.\n",
    "\n",
    "Os procedimentos realizados nas outras bases podem ser encontrados nos arquivos `02_feat_eng_<nome-da-base>.ipynb`\n",
    "\n",
    "O objetivo desta etapa consiste, principalmente, em criar variáveis (`book de variáveis`). Ao criar novas variáveis com base nas variáveis existentes, é possível capturar informações adicionais que podem não estar explicitamente presentes nos dados originais.\n",
    "\n",
    "Devido o volume de dados, optei por utilizar o PySpark em conjunto com o SparkSQL para as operações a seguir."
   ]
  },
  {
   "cell_type": "markdown",
   "metadata": {},
   "source": [
    "* Sobre os Dados"
   ]
  },
  {
   "cell_type": "markdown",
   "metadata": {},
   "source": [
    "A base `instalments_payments` possui informações sobre o histórico de pagamentos de empréstimos anteriores de um cliente.\n",
    "\n",
    "Segundo os Metadados disponibilizados, essas são as informações contidas aqui:\n",
    "\n",
    "`SK_ID_PREV`: ID do crédito anterior. (Um crédito em nossa amostra pode ter 0, 1, 2 ou mais créditos anteriores no Crédito Habitacional). Será utilizada como PK para conectarmos à base `previous_application`, conforme a esquematização abaixo.\n",
    "\n",
    "`SK_ID_CURR`: ID do empréstimo.\n",
    "\n",
    "`NUM_INSTALMENT_VERSION`: Versão do calendário de parcelamento (0 é para cartão de crédito) do crédito anterior. A mudança da versão do parcelamento de mês para mês significa que algum parâmetro do calendário de pagamento foi alterado.\n",
    "\n",
    "`NUM_INSTALMENT_NUMBER`: Em qual parcela observamos o pagamento.\n",
    "\n",
    "`DAYS_INSTALMENT`: Quando a parcela do crédito anterior deveria ser paga (em relação à data de solicitação do empréstimo atual).\n",
    "\n",
    "`DAYS_ENTRY_PAYMENT`: Quando as parcelas do crédito anterior foram efetivamente pagas (em relação à data de solicitação do empréstimo atual).\n",
    "\n",
    "`AMT_INSTALMENT`: Qual era o valor da parcela prescrito do crédito anterior nesta parcela.\n",
    "\n",
    "`AMT_PAYMENT`: O que o cliente realmente pagou no crédito anterior nesta parcela."
   ]
  },
  {
   "cell_type": "markdown",
   "metadata": {},
   "source": [
    "## Utils"
   ]
  },
  {
   "cell_type": "markdown",
   "metadata": {},
   "source": [
    "* Importando as bibliotecas que irei utilizar"
   ]
  },
  {
   "cell_type": "code",
   "execution_count": 1,
   "metadata": {},
   "outputs": [],
   "source": [
    "import os\n",
    "import findspark\n",
    "findspark.init()\n",
    "from pyspark.sql import SparkSession\n",
    "from pyspark.sql.functions import when,min, max, sum, round, col, median, abs\n",
    "spark = SparkSession.builder \\\n",
    "    .appName(\"FeatureEng\") \\\n",
    "    .config(\"spark.executor.memory\", \"14g\") \\\n",
    "    .config(\"spark.driver.memory\", \"14g\") \\\n",
    "    .getOrCreate()\n",
    "from warnings import filterwarnings\n",
    "filterwarnings('ignore')"
   ]
  },
  {
   "cell_type": "markdown",
   "metadata": {},
   "source": [
    "## Feature Engineering - Instalments Payments"
   ]
  },
  {
   "cell_type": "markdown",
   "metadata": {},
   "source": [
    "### 1. Carregamento e Informações Gerais"
   ]
  },
  {
   "cell_type": "markdown",
   "metadata": {},
   "source": [
    "* Carregando e Visualizando os dados utilizando o PySpark"
   ]
  },
  {
   "cell_type": "code",
   "execution_count": 2,
   "metadata": {},
   "outputs": [],
   "source": [
    "instalments = spark.read.csv('./DATASETS/installments_payments.csv', header= True, inferSchema= True)"
   ]
  },
  {
   "cell_type": "code",
   "execution_count": 3,
   "metadata": {},
   "outputs": [
    {
     "name": "stdout",
     "output_type": "stream",
     "text": [
      "+----------+----------+----------------------+---------------------+---------------+------------------+--------------+-----------+\n",
      "|SK_ID_PREV|SK_ID_CURR|NUM_INSTALMENT_VERSION|NUM_INSTALMENT_NUMBER|DAYS_INSTALMENT|DAYS_ENTRY_PAYMENT|AMT_INSTALMENT|AMT_PAYMENT|\n",
      "+----------+----------+----------------------+---------------------+---------------+------------------+--------------+-----------+\n",
      "|1054186   |161674    |1.0                   |6                    |-1180.0        |-1187.0           |6948.36       |6948.36    |\n",
      "|1330831   |151639    |0.0                   |34                   |-2156.0        |-2156.0           |1716.525      |1716.525   |\n",
      "|2085231   |193053    |2.0                   |1                    |-63.0          |-63.0             |25425.0       |25425.0    |\n",
      "|2452527   |199697    |1.0                   |3                    |-2418.0        |-2426.0           |24350.13      |24350.13   |\n",
      "|2714724   |167756    |1.0                   |2                    |-1383.0        |-1366.0           |2165.04       |2160.585   |\n",
      "+----------+----------+----------------------+---------------------+---------------+------------------+--------------+-----------+\n",
      "only showing top 5 rows\n",
      "\n"
     ]
    }
   ],
   "source": [
    "instalments.show(n=5, truncate= False)"
   ]
  },
  {
   "cell_type": "markdown",
   "metadata": {},
   "source": [
    "* Verificando as dimensões (Linhas x Colunas)"
   ]
  },
  {
   "cell_type": "code",
   "execution_count": 4,
   "metadata": {},
   "outputs": [
    {
     "data": {
      "text/plain": [
       "(13605401, 8)"
      ]
     },
     "execution_count": 4,
     "metadata": {},
     "output_type": "execute_result"
    }
   ],
   "source": [
    "(instalments.count(), len(instalments.columns))"
   ]
  },
  {
   "cell_type": "markdown",
   "metadata": {},
   "source": [
    "* Qtd. de Linhas após agrupamento (Para verificar ao final do processo)"
   ]
  },
  {
   "cell_type": "code",
   "execution_count": 5,
   "metadata": {},
   "outputs": [
    {
     "data": {
      "text/plain": [
       "997752"
      ]
     },
     "execution_count": 5,
     "metadata": {},
     "output_type": "execute_result"
    }
   ],
   "source": [
    "instalments.groupBy('SK_ID_PREV').count().count()"
   ]
  },
  {
   "cell_type": "markdown",
   "metadata": {},
   "source": [
    "### 2. Criação de Flags Temporais"
   ]
  },
  {
   "cell_type": "code",
   "execution_count": 3,
   "metadata": {},
   "outputs": [
    {
     "data": {
      "text/plain": [
       "13605401"
      ]
     },
     "execution_count": 3,
     "metadata": {},
     "output_type": "execute_result"
    }
   ],
   "source": [
    "# Criando uma View\n",
    "instalments.createOrReplaceTempView('instalments')\n",
    "\n",
    "temp01 = spark.sql(\"\"\"\n",
    "SELECT\n",
    "    *,\n",
    "        CASE\n",
    "            WHEN DAYS_INSTALMENT >= -90 THEN 1\n",
    "        ELSE 0\n",
    "    END AS FL_U3M,\n",
    "        CASE\n",
    "            WHEN DAYS_INSTALMENT >= -180 THEN 1\n",
    "        ELSE 0\n",
    "    END AS FL_U6M,\n",
    "        CASE\n",
    "            WHEN DAYS_INSTALMENT >= -270 THEN 1\n",
    "        ELSE 0\n",
    "    END AS FL_U9M,\n",
    "        CASE\n",
    "            WHEN DAYS_INSTALMENT >= -360 THEN 1\n",
    "        ELSE 0\n",
    "    END AS FL_U12M\n",
    "FROM\n",
    "    instalments\n",
    "ORDER BY\n",
    "    `SK_ID_PREV`;\n",
    "\"\"\")\n",
    "\n",
    "temp01.createOrReplaceTempView('temp01')\n",
    "\n",
    "temp01.count()"
   ]
  },
  {
   "cell_type": "markdown",
   "metadata": {},
   "source": [
    "### 3. Criando Variáveis Adicionais"
   ]
  },
  {
   "cell_type": "markdown",
   "metadata": {},
   "source": [
    "Como `DAYS_INSTALMENT` se refere à data de pagamento esperada da parcela e `DAYS_ENTRY_PAYMENT` se refere à data que a parcela foi realmente paga, podemos criar algumas variáveis utilizando ambas as colunas."
   ]
  },
  {
   "cell_type": "markdown",
   "metadata": {},
   "source": [
    "* Criando a Var. `Dias de Atraso` (Qtd. de dias negativos indicam que a parcela foi paga antes da data esperada)"
   ]
  },
  {
   "cell_type": "code",
   "execution_count": 4,
   "metadata": {},
   "outputs": [
    {
     "data": {
      "text/plain": [
       "13605401"
      ]
     },
     "execution_count": 4,
     "metadata": {},
     "output_type": "execute_result"
    }
   ],
   "source": [
    "temp02 = temp01.withColumn(\"QTD_DAYS_ATRASO\", abs(col('DAYS_ENTRY_PAYMENT')) - abs(col('DAYS_INSTALMENT')))\n",
    "temp02.count()"
   ]
  },
  {
   "cell_type": "markdown",
   "metadata": {},
   "source": [
    "* Criando a Var. `CAT_PGTO_PARCELA` ('ATRASO' se QTD_DIAS_ATRASO > 0, 'VENCIMENTO' se QTD_DIAS_ATRASO = 0, 'ANTECIPADO' se QTD_DIAS_ATRASO < 0)"
   ]
  },
  {
   "cell_type": "code",
   "execution_count": 8,
   "metadata": {},
   "outputs": [
    {
     "data": {
      "text/plain": [
       "13605401"
      ]
     },
     "execution_count": 8,
     "metadata": {},
     "output_type": "execute_result"
    }
   ],
   "source": [
    "temp02 = temp02.withColumn(\"FL_CAT_PGTO_ATRASADO\", when(col('QTD_DAYS_ATRASO') > 0, 1).otherwise(0))\n",
    "temp02 = temp02.withColumn(\"FL_CAT_PGTO_VENCIMENTO\", when(col('QTD_DAYS_ATRASO') == 0, 1).otherwise(0))\n",
    "temp02 = temp02.withColumn(\"FL_CAT_PGTO_ANTECIPADO\", when(col('QTD_DAYS_ATRASO') < 0, 1).otherwise(0))\n",
    "temp02.count()"
   ]
  },
  {
   "cell_type": "markdown",
   "metadata": {},
   "source": [
    "### 4. Criação das Variáveis (Agrupadas)"
   ]
  },
  {
   "cell_type": "markdown",
   "metadata": {},
   "source": [
    "* Filtrando as colunas que serão agregadas"
   ]
  },
  {
   "cell_type": "code",
   "execution_count": 5,
   "metadata": {},
   "outputs": [],
   "source": [
    "agg_cols = [col for col in temp02.columns if (\"FL_\" not in col) & (\"SK_ID\" not in col)]"
   ]
  },
  {
   "cell_type": "markdown",
   "metadata": {},
   "source": [
    "* Criando as novas variáveis e agrupando os dados"
   ]
  },
  {
   "cell_type": "code",
   "execution_count": 6,
   "metadata": {},
   "outputs": [],
   "source": [
    "flags_temporais = ['FL_U3M', 'FL_U6M', 'FL_U9M','FL_U12M']\n",
    "\n",
    "flags_categoricas = [col for col in temp02.columns if 'FL_CAT_' in col]"
   ]
  },
  {
   "cell_type": "markdown",
   "metadata": {},
   "source": [
    "#### 4.1 Usando Apenas Flags Temporais"
   ]
  },
  {
   "cell_type": "code",
   "execution_count": 7,
   "metadata": {},
   "outputs": [
    {
     "data": {
      "text/plain": [
       "997752"
      ]
     },
     "execution_count": 7,
     "metadata": {},
     "output_type": "execute_result"
    }
   ],
   "source": [
    "newcols = []\n",
    "\n",
    "for flag_temp in flags_temporais:\n",
    "    nome_flag_temp_tratado = flag_temp.replace(\"FL_\",'')\n",
    "    for agg_col in agg_cols:\n",
    "        if 'DAY' in agg_col:\n",
    "            newcols.append(round(max(when(col(flag_temp) == 1, col(agg_col))),2).alias(f\"QT_MAX_{agg_col}_{nome_flag_temp_tratado}_INSTALMENTS\".upper()))\n",
    "            newcols.append(round(min(when(col(flag_temp) == 1, col(agg_col))),2).alias(f\"QT_MIN_{agg_col}_{nome_flag_temp_tratado}_INSTALMENTS\".upper()))\n",
    "        else:\n",
    "            newcols.append(round(max(when(col(flag_temp) == 1, col(agg_col))),2).alias(f\"VL_MAX_{agg_col}_{nome_flag_temp_tratado}_INSTALMENTS\".upper()))\n",
    "            newcols.append(round(min(when(col(flag_temp) == 1, col(agg_col))),2).alias(f\"VL_MIN_{agg_col}_{nome_flag_temp_tratado}_INSTALMENTS\".upper()))\n",
    "            newcols.append(round(median(when(col(flag_temp) == 1, col(agg_col))),2).alias(f\"VL_MED_{agg_col}_{nome_flag_temp_tratado}_INSTALMENTS\".upper()))\n",
    "            newcols.append(round(sum(when(col(flag_temp) == 1, col(agg_col))),2).alias(f\"VL_SUM_{agg_col}_{nome_flag_temp_tratado}_INSTALMENTS\".upper()))\n",
    "\n",
    "newcols = tuple(newcols)\n",
    "\n",
    "temp03 = temp02.groupBy(\"SK_ID_PREV\").agg(*newcols).orderBy(\"SK_ID_PREV\")\n",
    "\n",
    "temp03.count()"
   ]
  },
  {
   "cell_type": "code",
   "execution_count": 8,
   "metadata": {},
   "outputs": [
    {
     "name": "stdout",
     "output_type": "stream",
     "text": [
      "Qtd. de Vars. Criadas: 89\n"
     ]
    }
   ],
   "source": [
    "print(\"Qtd. de Vars. Criadas:\", len(temp03.columns))"
   ]
  },
  {
   "cell_type": "code",
   "execution_count": 13,
   "metadata": {},
   "outputs": [],
   "source": [
    "temp03 = temp03.repartition(1)\n",
    "\n",
    "temp03.write.mode(\"overwrite\").option(\"compression\", \"gzip\").parquet(\"./VARS/INSTALMENTS_PAYMENTS/FL_TEMPORAIS\")"
   ]
  },
  {
   "cell_type": "markdown",
   "metadata": {},
   "source": [
    "#### 4.2 Usando Apenas Flags Categóricas"
   ]
  },
  {
   "cell_type": "code",
   "execution_count": 14,
   "metadata": {},
   "outputs": [
    {
     "data": {
      "text/plain": [
       "997752"
      ]
     },
     "execution_count": 14,
     "metadata": {},
     "output_type": "execute_result"
    }
   ],
   "source": [
    "newcols = []\n",
    "\n",
    "for flag_categorica in flags_categoricas:\n",
    "    nome_flag_cat_tratada = flag_categorica.replace(\"FL_CAT_\",'')\n",
    "    for agg_col in agg_cols:\n",
    "        if 'DAY' in agg_col:\n",
    "            newcols.append(round(max(when(col(flag_categorica) == 1, col(agg_col))),2).alias(f\"QT_MAX_{agg_col}_{nome_flag_cat_tratada}_INSTALMENTS\".upper()))\n",
    "            newcols.append(round(min(when(col(flag_categorica) == 1, col(agg_col))),2).alias(f\"QT_MIN_{agg_col}_{nome_flag_cat_tratada}_INSTALMENTS\".upper()))\n",
    "        else:\n",
    "            newcols.append(round(max(when(col(flag_categorica) == 1, col(agg_col))),2).alias(f\"VL_MAX_{agg_col}_{nome_flag_cat_tratada}_INSTALMENTS\".upper()))\n",
    "            newcols.append(round(min(when(col(flag_categorica) == 1, col(agg_col))),2).alias(f\"VL_MIN_{agg_col}_{nome_flag_cat_tratada}_INSTALMENTS\".upper()))\n",
    "            newcols.append(round(median(when(col(flag_categorica) == 1, col(agg_col))),2).alias(f\"VL_MED_{agg_col}_{nome_flag_cat_tratada}_INSTALMENTS\".upper()))\n",
    "            newcols.append(round(sum(when(col(flag_categorica) == 1, col(agg_col))),2).alias(f\"VL_SUM_{agg_col}_{nome_flag_cat_tratada}_INSTALMENTS\".upper()))\n",
    "\n",
    "newcols = tuple(newcols)\n",
    "\n",
    "temp04 = temp02.groupBy(\"SK_ID_PREV\").agg(*newcols).orderBy(\"SK_ID_PREV\")\n",
    "\n",
    "temp04.count()"
   ]
  },
  {
   "cell_type": "code",
   "execution_count": 15,
   "metadata": {},
   "outputs": [
    {
     "name": "stdout",
     "output_type": "stream",
     "text": [
      "Qtd. de Vars. Criadas: 67\n"
     ]
    }
   ],
   "source": [
    "print(\"Qtd. de Vars. Criadas:\", len(temp04.columns))"
   ]
  },
  {
   "cell_type": "code",
   "execution_count": 16,
   "metadata": {},
   "outputs": [],
   "source": [
    "temp04 = temp04.repartition(1)\n",
    "\n",
    "temp04.write.mode(\"overwrite\").option(\"compression\", \"gzip\").parquet(\"./VARS/INSTALMENTS_PAYMENTS/FL_CATEGORICAS\")"
   ]
  },
  {
   "cell_type": "markdown",
   "metadata": {},
   "source": [
    "### 5. Juntando as Tabelas"
   ]
  },
  {
   "cell_type": "code",
   "execution_count": 17,
   "metadata": {},
   "outputs": [
    {
     "data": {
      "text/plain": [
       "(997752, 997752)"
      ]
     },
     "execution_count": 17,
     "metadata": {},
     "output_type": "execute_result"
    }
   ],
   "source": [
    "# Verificando a quantidade de linha das tabelas\n",
    "\n",
    "temp03.count(), temp04.count()"
   ]
  },
  {
   "cell_type": "code",
   "execution_count": 18,
   "metadata": {},
   "outputs": [
    {
     "data": {
      "text/plain": [
       "(89, 67)"
      ]
     },
     "execution_count": 18,
     "metadata": {},
     "output_type": "execute_result"
    }
   ],
   "source": [
    "# Verificando a quantidade de colunas das tabelas\n",
    "\n",
    "len(temp03.columns), len(temp04.columns)"
   ]
  },
  {
   "cell_type": "markdown",
   "metadata": {},
   "source": [
    "* Após o Join, devemos esperar 997.752 linhas e 155 colunas"
   ]
  },
  {
   "cell_type": "code",
   "execution_count": 19,
   "metadata": {},
   "outputs": [
    {
     "data": {
      "text/plain": [
       "(997752, 155)"
      ]
     },
     "execution_count": 19,
     "metadata": {},
     "output_type": "execute_result"
    }
   ],
   "source": [
    "instalments_agg = temp03.join(other= temp04, on= 'SK_ID_PREV', how= 'left')\n",
    "\n",
    "instalments_agg.count(), len(instalments_agg.columns)"
   ]
  },
  {
   "cell_type": "markdown",
   "metadata": {},
   "source": [
    "* Salvando a tabela final"
   ]
  },
  {
   "cell_type": "code",
   "execution_count": 9,
   "metadata": {},
   "outputs": [],
   "source": [
    "instalments_agg = temp03\n",
    "\n",
    "instalments_agg = instalments_agg.repartition(1)\n",
    "\n",
    "instalments_agg.write.mode('overwrite').parquet(\"./BASES_FEAT_ENG/INSTALMENTS_PAYMENTS_FEAT_ENG\")"
   ]
  },
  {
   "cell_type": "code",
   "execution_count": 10,
   "metadata": {},
   "outputs": [
    {
     "data": {
      "text/plain": [
       "(997752, 89)"
      ]
     },
     "execution_count": 10,
     "metadata": {},
     "output_type": "execute_result"
    }
   ],
   "source": [
    "instalments_agg.count(), len(instalments_agg.columns)"
   ]
  }
 ],
 "metadata": {
  "kernelspec": {
   "display_name": "base",
   "language": "python",
   "name": "python3"
  },
  "language_info": {
   "codemirror_mode": {
    "name": "ipython",
    "version": 3
   },
   "file_extension": ".py",
   "mimetype": "text/x-python",
   "name": "python",
   "nbconvert_exporter": "python",
   "pygments_lexer": "ipython3",
   "version": "3.9.18"
  }
 },
 "nbformat": 4,
 "nbformat_minor": 2
}
