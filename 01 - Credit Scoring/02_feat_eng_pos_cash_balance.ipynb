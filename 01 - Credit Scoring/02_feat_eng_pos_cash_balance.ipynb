{
 "cells": [
  {
   "cell_type": "markdown",
   "metadata": {},
   "source": [
    "## Introdução"
   ]
  },
  {
   "cell_type": "markdown",
   "metadata": {},
   "source": [
    "Aqui irei realizar a etapa de Feature Engineering na base de dados `pos_cash_balance`.\n",
    "\n",
    "Esta etapa está dividida em kernels diferentes devido o consumo de memória para carregar e manipular as bases.\n",
    "\n",
    "Os procedimentos realizados nas outras bases podem ser encontrados nos arquivos `02_feat_eng_<nome-da-base>.ipynb`\n",
    "\n",
    "O objetivo desta etapa consiste, principalmente, em criar variáveis (`book de variáveis`). Ao criar novas variáveis com base nas variáveis existentes, é possível capturar informações adicionais que podem não estar explicitamente presentes nos dados originais.\n",
    "\n",
    "Devido o volume de dados, optei por utilizar o PySpark em conjunto com o SparkSQL para as operações a seguir."
   ]
  },
  {
   "cell_type": "markdown",
   "metadata": {},
   "source": [
    "* Sobre os Dados"
   ]
  },
  {
   "cell_type": "markdown",
   "metadata": {},
   "source": [
    "A base `pos_cash_balance` possui informações sobre o histórico de pagamentos de POS (Point of Sale) ou empréstimos em dinheiro.\n",
    "\n",
    "Segundo os Metadados disponibilizados, essas são as informações contidas aqui:\n",
    "\n",
    "`SK_ID_PREV`: ID do crédito anterior. (Um crédito em nossa amostra pode ter 0, 1, 2 ou mais créditos anteriores no Crédito Habitacional). Será utilizada como PK para conectarmos à base `previous_application`, conforme a esquematização abaixo.\n",
    "\n",
    "`SK_ID_CURR`: ID do empréstimo.\n",
    "\n",
    "`MONTHS_BALANCE`: Mês do saldo em relação à data de aplicação (-1 significa a informação mais recente, 0 significa a informação na aplicação - frequentemente será o mesmo que -1, já que muitos bancos não atualizam regularmente as informações no Bureau de Crédito).\n",
    "\n",
    "`CNT_INSTALMENT`: Prazo do crédito anterior (pode variar ao longo do tempo).\n",
    "\n",
    "`CNT_INSTALMENT_FUTURE`: Parcelas restantes a pagar no crédito anterior.\n",
    "\n",
    "`NAME_CONTRACT_STATUS`: Status do contrato durante o mês.\n",
    "\n",
    "`SK_DPD`: DPD (dias em atraso) durante o mês do crédito anterior.\n",
    "\n",
    "`SK_DPD_DEF`: DPD durante o mês com tolerância (dívidas com baixos valores de empréstimo são ignoradas) do crédito anterior."
   ]
  },
  {
   "cell_type": "markdown",
   "metadata": {},
   "source": [
    "## Utils"
   ]
  },
  {
   "cell_type": "markdown",
   "metadata": {},
   "source": [
    "* Importando as bibliotecas que irei utilizar"
   ]
  },
  {
   "cell_type": "code",
   "execution_count": 1,
   "metadata": {},
   "outputs": [],
   "source": [
    "import os\n",
    "import findspark\n",
    "findspark.init()\n",
    "from pyspark.sql import SparkSession\n",
    "from pyspark.sql.functions import when,min, max, sum, round, col, median\n",
    "spark = SparkSession.builder \\\n",
    "    .appName(\"FeatureEng\") \\\n",
    "    .config(\"spark.executor.memory\", \"14g\") \\\n",
    "    .config(\"spark.driver.memory\", \"14g\") \\\n",
    "    .getOrCreate()\n",
    "from warnings import filterwarnings\n",
    "filterwarnings('ignore')"
   ]
  },
  {
   "cell_type": "markdown",
   "metadata": {},
   "source": [
    "## Feature Engineering - POS Cash Balance"
   ]
  },
  {
   "cell_type": "markdown",
   "metadata": {},
   "source": [
    "### 1. Carregamento e Informações Gerais"
   ]
  },
  {
   "cell_type": "markdown",
   "metadata": {},
   "source": [
    "* Carregando e Visualizando os dados utilizando o PySpark"
   ]
  },
  {
   "cell_type": "code",
   "execution_count": 2,
   "metadata": {},
   "outputs": [],
   "source": [
    "pos_cash = spark.read.csv('./DATASETS/POS_CASH_balance.csv', header= True, inferSchema= True)"
   ]
  },
  {
   "cell_type": "code",
   "execution_count": 3,
   "metadata": {},
   "outputs": [
    {
     "name": "stdout",
     "output_type": "stream",
     "text": [
      "+----------+----------+--------------+--------------+---------------------+--------------------+------+----------+\n",
      "|SK_ID_PREV|SK_ID_CURR|MONTHS_BALANCE|CNT_INSTALMENT|CNT_INSTALMENT_FUTURE|NAME_CONTRACT_STATUS|SK_DPD|SK_DPD_DEF|\n",
      "+----------+----------+--------------+--------------+---------------------+--------------------+------+----------+\n",
      "|1803195   |182943    |-31           |48.0          |45.0                 |Active              |0     |0         |\n",
      "|1715348   |367990    |-33           |36.0          |35.0                 |Active              |0     |0         |\n",
      "|1784872   |397406    |-32           |12.0          |9.0                  |Active              |0     |0         |\n",
      "+----------+----------+--------------+--------------+---------------------+--------------------+------+----------+\n",
      "only showing top 3 rows\n",
      "\n"
     ]
    }
   ],
   "source": [
    "pos_cash.show(n=3, truncate= False)"
   ]
  },
  {
   "cell_type": "markdown",
   "metadata": {},
   "source": [
    "* Verificando as dimensões (Linhas x Colunas)"
   ]
  },
  {
   "cell_type": "code",
   "execution_count": 4,
   "metadata": {},
   "outputs": [
    {
     "data": {
      "text/plain": [
       "(10001358, 8)"
      ]
     },
     "execution_count": 4,
     "metadata": {},
     "output_type": "execute_result"
    }
   ],
   "source": [
    "(pos_cash.count(), len(pos_cash.columns))"
   ]
  },
  {
   "cell_type": "markdown",
   "metadata": {},
   "source": [
    "* Qtd. de Linhas após agrupamento (Para verificar ao final do processo)"
   ]
  },
  {
   "cell_type": "code",
   "execution_count": 5,
   "metadata": {},
   "outputs": [
    {
     "data": {
      "text/plain": [
       "936325"
      ]
     },
     "execution_count": 5,
     "metadata": {},
     "output_type": "execute_result"
    }
   ],
   "source": [
    "pos_cash.groupBy(\"SK_ID_PREV\").count().count()"
   ]
  },
  {
   "cell_type": "markdown",
   "metadata": {},
   "source": [
    "### 2. Criação de Flags Temporais"
   ]
  },
  {
   "cell_type": "code",
   "execution_count": 3,
   "metadata": {},
   "outputs": [],
   "source": [
    "# Criando uma View\n",
    "pos_cash.createOrReplaceTempView('pos_cash')\n",
    "\n",
    "temp01 = spark.sql(\"\"\"\n",
    "SELECT\n",
    "    *,\n",
    "        CASE\n",
    "            WHEN MONTHS_BALANCE >= -3 THEN 1\n",
    "        ELSE 0\n",
    "    END AS FL_U3M,\n",
    "        CASE\n",
    "            WHEN MONTHS_BALANCE >= -6 THEN 1\n",
    "        ELSE 0\n",
    "    END AS FL_U6M,\n",
    "        CASE\n",
    "            WHEN MONTHS_BALANCE >= -9 THEN 1\n",
    "        ELSE 0\n",
    "    END AS FL_U9M,\n",
    "        CASE\n",
    "            WHEN MONTHS_BALANCE >= -12 THEN 1\n",
    "        ELSE 0\n",
    "    END AS FL_U12M\n",
    "FROM\n",
    "    pos_cash\n",
    "ORDER BY\n",
    "    `SK_ID_PREV`;\n",
    "\"\"\")\n",
    "\n",
    "temp01.createOrReplaceTempView('temp01')"
   ]
  },
  {
   "cell_type": "code",
   "execution_count": 7,
   "metadata": {},
   "outputs": [
    {
     "data": {
      "text/plain": [
       "10001358"
      ]
     },
     "execution_count": 7,
     "metadata": {},
     "output_type": "execute_result"
    }
   ],
   "source": [
    "temp01.count()"
   ]
  },
  {
   "cell_type": "markdown",
   "metadata": {},
   "source": [
    "### 3. Criação das Flags das Variáveis Categóricas"
   ]
  },
  {
   "cell_type": "markdown",
   "metadata": {},
   "source": [
    "* Criando uma flag para cada valor único de cada variável categórica"
   ]
  },
  {
   "cell_type": "code",
   "execution_count": 4,
   "metadata": {},
   "outputs": [],
   "source": [
    "# Lista para armazenar as colunas criadas\n",
    "flags = []\n",
    "\n",
    "# Pegando todas as colunas categoricas da tabela\n",
    "cat_cols = [cat_col[0] for cat_col in temp01.dtypes if cat_col[1] == 'string']\n",
    "\n",
    "# Gerando as colunas Flag\n",
    "for cat_col in cat_cols:\n",
    "    unique_vals = [col[0] for col in temp01.select(cat_col).distinct().collect()]\n",
    "\n",
    "    for unique_val in unique_vals:\n",
    "        flags.append(when(col(cat_col) == unique_val, 1).otherwise(0).alias(f'FL_CAT_{cat_col}_{unique_val.upper().replace(\" \", \"_\")}'))"
   ]
  },
  {
   "cell_type": "markdown",
   "metadata": {},
   "source": [
    "* Realizando o Unpacking e Criando a Tabela"
   ]
  },
  {
   "cell_type": "code",
   "execution_count": 5,
   "metadata": {},
   "outputs": [],
   "source": [
    "# temp02 = temp01.select(\"*\", *flags)\n",
    "temp02 = temp01"
   ]
  },
  {
   "cell_type": "markdown",
   "metadata": {},
   "source": [
    "### 4. Criação das Variáveis (Agrupadas)"
   ]
  },
  {
   "cell_type": "markdown",
   "metadata": {},
   "source": [
    "* Filtrando as colunas que serão agregadas"
   ]
  },
  {
   "cell_type": "code",
   "execution_count": 6,
   "metadata": {},
   "outputs": [],
   "source": [
    "# Selecionando as variáveis que serão agregadas (exceto Flags e IDs)\n",
    "agg_cols = [col for col in temp02.columns if (\"FL_\" not in col) & (\"SK_ID\" not in col)]\n",
    "\n",
    "# Removendo a Coluna de Janela Temporal\n",
    "agg_cols.remove('MONTHS_BALANCE')\n",
    "\n",
    "# Removendo as colunas categóricas que tiveram flags criadas\n",
    "for cat_col in cat_cols:\n",
    "    agg_cols.remove(cat_col)"
   ]
  },
  {
   "cell_type": "markdown",
   "metadata": {},
   "source": [
    "* Criando as novas variáveis e agrupando os dados"
   ]
  },
  {
   "cell_type": "code",
   "execution_count": 7,
   "metadata": {},
   "outputs": [],
   "source": [
    "flags_temporais = ['FL_U3M', 'FL_U6M', 'FL_U9M','FL_U12M']\n",
    "\n",
    "flags_categoricas = [col for col in temp02.columns if 'FL_CAT_' in col]"
   ]
  },
  {
   "cell_type": "markdown",
   "metadata": {},
   "source": [
    "#### 4.1 Usando Apenas Flags Temporais"
   ]
  },
  {
   "cell_type": "code",
   "execution_count": 8,
   "metadata": {},
   "outputs": [],
   "source": [
    "new_cols = []\n",
    "\n",
    "for flag_temp in flags_temporais:\n",
    "    nome_flag_temp_corrigido = flag_temp.replace('FL_','')\n",
    "\n",
    "    for agg_col in agg_cols:\n",
    "\n",
    "        if 'DPD' in agg_col:\n",
    "            new_cols.append(round(max(when(col(flag_temp) == 1, col(agg_col))),2).alias(f\"QT_MAX_{agg_col}_{nome_flag_temp_corrigido}_POSCASH\"))\n",
    "            new_cols.append(round(min(when(col(flag_temp) == 1, col(agg_col))),2).alias(f\"QT_MIN_{agg_col}_{nome_flag_temp_corrigido}_POSCASH\"))\n",
    "        else:\n",
    "            new_cols.append(round(max(when(col(flag_temp) == 1, col(agg_col))),2).alias(f\"VL_MAX_{agg_col}_{nome_flag_temp_corrigido}_POSCASH\"))\n",
    "            new_cols.append(round(min(when(col(flag_temp) == 1, col(agg_col))),2).alias(f\"VL_MIN_{agg_col}_{nome_flag_temp_corrigido}_POSCASH\"))\n",
    "            new_cols.append(round(sum(when(col(flag_temp) == 1, col(agg_col))),2).alias(f\"VL_SUM_{agg_col}_{nome_flag_temp_corrigido}_POSCASH\"))\n",
    "            new_cols.append(round(median(when(col(flag_temp) == 1, col(agg_col))),2).alias(f\"VL_MD_{agg_col}_{nome_flag_temp_corrigido}_POSCASH\"))\n",
    "\n",
    "\n",
    "new_cols = tuple(new_cols)\n",
    "\n",
    "temp03 = temp02.groupBy(\"SK_ID_PREV\").agg(*new_cols).orderBy(\"SK_ID_PREV\")"
   ]
  },
  {
   "cell_type": "code",
   "execution_count": 14,
   "metadata": {},
   "outputs": [],
   "source": [
    "temp03 = temp03.repartition(1)\n",
    "temp03.write.mode(\"overwrite\").option(\"compression\", \"gzip\").parquet(\"./VARS/POS_CASH_BALANCE/FL_TEMPORAL\")"
   ]
  },
  {
   "cell_type": "code",
   "execution_count": 9,
   "metadata": {},
   "outputs": [
    {
     "name": "stdout",
     "output_type": "stream",
     "text": [
      "Quantidade de Vars. Criadas:  49\n"
     ]
    }
   ],
   "source": [
    "print('Quantidade de Vars. Criadas: ', len(temp03.columns))"
   ]
  },
  {
   "cell_type": "markdown",
   "metadata": {},
   "source": [
    "#### 4.2 Usando Apenas Flags Categóricas"
   ]
  },
  {
   "cell_type": "code",
   "execution_count": 16,
   "metadata": {},
   "outputs": [],
   "source": [
    "# new_cols = []\n",
    "\n",
    "# for cat_flag in flags_categoricas:\n",
    "#     nome_flag_cat_corrigido = cat_flag.replace('FL_CAT_','')\n",
    "#     for agg_col in agg_cols:\n",
    "#         if 'DPD' in agg_col:\n",
    "#             new_cols.append(round(max(when(col(cat_flag) == 1, col(agg_col))),2).alias(f\"QT_MAX_{agg_col}_{nome_flag_cat_corrigido}_POSCASH\"))\n",
    "#             new_cols.append(round(min(when(col(cat_flag) == 1, col(agg_col))),2).alias(f\"QT_MIN_{agg_col}_{nome_flag_cat_corrigido}_POSCASH\"))\n",
    "#         else:\n",
    "#             new_cols.append(round(max(when(col(cat_flag) == 1, col(agg_col))),2).alias(f\"VL_MAX_{agg_col}_{nome_flag_cat_corrigido}_POSCASH\"))\n",
    "#             new_cols.append(round(min(when(col(cat_flag) == 1, col(agg_col))),2).alias(f\"VL_MIN_{agg_col}_{nome_flag_cat_corrigido}_POSCASH\"))\n",
    "#             new_cols.append(round(sum(when(col(cat_flag) == 1, col(agg_col))),2).alias(f\"VL_SUM_{agg_col}_{nome_flag_cat_corrigido}_POSCASH\"))\n",
    "#             new_cols.append(round(median(when(col(cat_flag) == 1, col(agg_col))),2).alias(f\"VL_MD_{agg_col}_{nome_flag_cat_corrigido}_POSCASH\"))\n",
    "\n",
    "# new_cols = tuple(new_cols)\n",
    "\n",
    "# temp04 = temp02.groupBy(\"SK_ID_PREV\").agg(*new_cols).orderBy(\"SK_ID_PREV\")"
   ]
  },
  {
   "cell_type": "code",
   "execution_count": 17,
   "metadata": {},
   "outputs": [],
   "source": [
    "# temp04 = temp04.repartition(1)\n",
    "# temp04.write.mode(\"overwrite\").option(\"compression\", \"gzip\").parquet(\"./VARS/POS_CASH_BALANCE/FL_CATEGORICAS\")"
   ]
  },
  {
   "cell_type": "code",
   "execution_count": 17,
   "metadata": {},
   "outputs": [
    {
     "name": "stdout",
     "output_type": "stream",
     "text": [
      "Quantidade de Vars. Criadas:  49\n"
     ]
    }
   ],
   "source": [
    "# print('Quantidade de Vars. Criadas: ', len(temp03.columns))"
   ]
  },
  {
   "cell_type": "markdown",
   "metadata": {},
   "source": [
    "### 5. Juntando as Tabelas"
   ]
  },
  {
   "cell_type": "code",
   "execution_count": 20,
   "metadata": {},
   "outputs": [
    {
     "data": {
      "text/plain": [
       "(936325, 936325)"
      ]
     },
     "execution_count": 20,
     "metadata": {},
     "output_type": "execute_result"
    }
   ],
   "source": [
    "# Verificando a quantidade de linhas em cada tabela\n",
    "\n",
    "temp03.count(), temp04.count()"
   ]
  },
  {
   "cell_type": "code",
   "execution_count": 21,
   "metadata": {},
   "outputs": [
    {
     "data": {
      "text/plain": [
       "(37, 109)"
      ]
     },
     "execution_count": 21,
     "metadata": {},
     "output_type": "execute_result"
    }
   ],
   "source": [
    "# Verificando a Quantidade de Colunas em cada tabela\n",
    "\n",
    "len(temp03.columns), len(temp04.columns)"
   ]
  },
  {
   "cell_type": "markdown",
   "metadata": {},
   "source": [
    "* Após o Join, devemos esperar 936.325 linhas x 169 colunas"
   ]
  },
  {
   "cell_type": "code",
   "execution_count": 18,
   "metadata": {},
   "outputs": [],
   "source": [
    "# pos_cash_agg = temp04.join(other= temp03, on= \"SK_ID_PREV\", how = 'left')"
   ]
  },
  {
   "cell_type": "code",
   "execution_count": 19,
   "metadata": {},
   "outputs": [
    {
     "data": {
      "text/plain": [
       "(936325, 85)"
      ]
     },
     "execution_count": 19,
     "metadata": {},
     "output_type": "execute_result"
    }
   ],
   "source": [
    "# Verificando as dimensões da tabela final\n",
    "\n",
    "pos_cash_agg.count(), len(pos_cash_agg.columns)"
   ]
  },
  {
   "cell_type": "markdown",
   "metadata": {},
   "source": [
    "* Salvando a Tabela Final"
   ]
  },
  {
   "cell_type": "code",
   "execution_count": 10,
   "metadata": {},
   "outputs": [],
   "source": [
    "pos_cash_agg = temp03\n",
    "\n",
    "pos_cash_agg = pos_cash_agg.repartition(1)\n",
    "\n",
    "pos_cash_agg.write.mode(\"overwrite\").parquet(\"./BASES_FEAT_ENG/POS_CASH_BALANCE_FEAT_ENG\")"
   ]
  }
 ],
 "metadata": {
  "kernelspec": {
   "display_name": "base",
   "language": "python",
   "name": "python3"
  },
  "language_info": {
   "codemirror_mode": {
    "name": "ipython",
    "version": 3
   },
   "file_extension": ".py",
   "mimetype": "text/x-python",
   "name": "python",
   "nbconvert_exporter": "python",
   "pygments_lexer": "ipython3",
   "version": "3.9.18"
  }
 },
 "nbformat": 4,
 "nbformat_minor": 2
}
