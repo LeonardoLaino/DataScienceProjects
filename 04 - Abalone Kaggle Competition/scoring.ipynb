{
 "cells": [
  {
   "cell_type": "code",
   "execution_count": 1,
   "metadata": {},
   "outputs": [],
   "source": [
    "import pandas as pd\n",
    "import numpy as np\n",
    "from utils.feature_engineering import create_features"
   ]
  },
  {
   "cell_type": "code",
   "execution_count": 2,
   "metadata": {},
   "outputs": [],
   "source": [
    "test_data = pd.read_csv('./database/test.csv')\n",
    "test_id = test_data['id'].copy()\n",
    "test_data = test_data.drop(columns= 'id')"
   ]
  },
  {
   "cell_type": "markdown",
   "metadata": {},
   "source": [
    "* Criando as Mesmas Features"
   ]
  },
  {
   "cell_type": "code",
   "execution_count": 3,
   "metadata": {},
   "outputs": [],
   "source": [
    "test_data = create_features(test_data)"
   ]
  },
  {
   "cell_type": "markdown",
   "metadata": {},
   "source": [
    "## Etapa 1 - Clustering"
   ]
  },
  {
   "cell_type": "markdown",
   "metadata": {},
   "source": [
    "* Importando os artefatos - Pipeline"
   ]
  },
  {
   "cell_type": "code",
   "execution_count": 4,
   "metadata": {},
   "outputs": [],
   "source": [
    "# Importando os artefatos\n",
    "import pickle\n",
    "\n",
    "# Importando a pipeline\n",
    "with open('./artefatos/01_std_dataprep/std_pipeline.pkl', mode= 'rb') as file:\n",
    "    std_pipeline = pickle.load(file)\n",
    "\n",
    "# Importando a lista de features\n",
    "with open('./artefatos/01_std_dataprep/std_pipeline_features.pkl', mode= 'rb') as file:\n",
    "    std_pipeline_feature_list = pickle.load(file)"
   ]
  },
  {
   "cell_type": "markdown",
   "metadata": {},
   "source": [
    "* Aplica a pipeline"
   ]
  },
  {
   "cell_type": "code",
   "execution_count": 5,
   "metadata": {},
   "outputs": [],
   "source": [
    "test_data_dp = pd.DataFrame(\n",
    "    data= std_pipeline.transform(test_data),\n",
    "    columns= std_pipeline_feature_list\n",
    ")"
   ]
  },
  {
   "cell_type": "markdown",
   "metadata": {},
   "source": [
    "* Importando os Artefatos - PCA e GMM"
   ]
  },
  {
   "cell_type": "code",
   "execution_count": 6,
   "metadata": {},
   "outputs": [],
   "source": [
    "# PCA\n",
    "with open('./artefatos/02_pca/pca.pkl', mode= 'rb') as file:\n",
    "    pca = pickle.load(file)\n",
    "\n",
    "# Modelo GMM treinado\n",
    "with open('./artefatos/03_gmm/gmm_model.pkl', mode= 'rb') as file:\n",
    "    gmm = pickle.load(file)"
   ]
  },
  {
   "cell_type": "markdown",
   "metadata": {},
   "source": [
    "* Aplicando o PCA e o GMM"
   ]
  },
  {
   "cell_type": "code",
   "execution_count": 7,
   "metadata": {},
   "outputs": [],
   "source": [
    "test_data_reduced = pca.transform(test_data_dp)"
   ]
  },
  {
   "cell_type": "code",
   "execution_count": 8,
   "metadata": {},
   "outputs": [],
   "source": [
    "test_data['Cluster'] = gmm.predict(test_data_reduced)"
   ]
  },
  {
   "cell_type": "markdown",
   "metadata": {},
   "source": [
    "## Etapa 2 - Modelo Final"
   ]
  },
  {
   "cell_type": "markdown",
   "metadata": {},
   "source": [
    "* Importando os Artefatos: Pipeline, Lista de Features do Feature Selection e Modelos Treinados"
   ]
  },
  {
   "cell_type": "code",
   "execution_count": 9,
   "metadata": {},
   "outputs": [],
   "source": [
    "# Pipeline\n",
    "with open('./artefatos/05_modelo_final/pipeline.pkl', mode= 'rb') as file:\n",
    "    pipeline_final = pickle.load(file)\n",
    "\n",
    "# Feature List - Pipeline\n",
    "with open('./artefatos/05_modelo_final/pipeline_features_out.pkl', mode= 'rb') as file:\n",
    "    pipeline_final_feature_list = pickle.load(file)\n",
    "\n",
    "# Feature List - Pós Feature Selection\n",
    "with open('./artefatos/05_modelo_final/feature_selection_step2_rfecv.pkl', mode= 'rb') as file:\n",
    "    feature_selection_feature_list = pickle.load(file)\n",
    "\n",
    "# Modelo - Grad Boosting\n",
    "with open('./artefatos/05_modelo_final/grad_boosting_trained_model_70perc_data.pkl', mode= 'rb') as file:\n",
    "    grad_boosting = pickle.load(file)\n",
    "\n",
    "# Modelo - LGBM\n",
    "with open('./artefatos/05_modelo_final/lgbm_trained_model_70perc_data.pkl', mode= 'rb') as file:\n",
    "    lgbm = pickle.load(file)"
   ]
  },
  {
   "cell_type": "markdown",
   "metadata": {},
   "source": [
    "* Aplicando o Pipeline"
   ]
  },
  {
   "cell_type": "code",
   "execution_count": 10,
   "metadata": {},
   "outputs": [],
   "source": [
    "test_data_final = pd.DataFrame(\n",
    "    data= pipeline_final.transform(test_data),\n",
    "    columns= pipeline_final_feature_list\n",
    ")"
   ]
  },
  {
   "cell_type": "markdown",
   "metadata": {},
   "source": [
    "* Aplicando o Feature Selection"
   ]
  },
  {
   "cell_type": "code",
   "execution_count": 11,
   "metadata": {},
   "outputs": [],
   "source": [
    "test_data_final = test_data_final[feature_selection_feature_list]"
   ]
  },
  {
   "cell_type": "markdown",
   "metadata": {},
   "source": [
    "* Aplicando o Modelo I - Grad Boosting"
   ]
  },
  {
   "cell_type": "code",
   "execution_count": 12,
   "metadata": {},
   "outputs": [],
   "source": [
    "grad_boosting_pred = grad_boosting.predict(test_data_final)"
   ]
  },
  {
   "cell_type": "markdown",
   "metadata": {},
   "source": [
    "* Aplicando o Modelo II - LGBM"
   ]
  },
  {
   "cell_type": "code",
   "execution_count": 13,
   "metadata": {},
   "outputs": [
    {
     "name": "stdout",
     "output_type": "stream",
     "text": [
      "[LightGBM] [Warning] Unknown parameter: feature_selection__k\n",
      "[LightGBM] [Warning] Unknown parameter: silent\n",
      "[LightGBM] [Warning] min_data_in_leaf is set=500, min_child_samples=216 will be ignored. Current value: min_data_in_leaf=500\n",
      "[LightGBM] [Warning] feature_fraction is set=0.7964512229311099, colsample_bytree=0.5 will be ignored. Current value: feature_fraction=0.7964512229311099\n",
      "[LightGBM] [Warning] bagging_fraction is set=1.0, subsample=0.5 will be ignored. Current value: bagging_fraction=1.0\n",
      "[LightGBM] [Warning] bagging_freq is set=6, subsample_freq=9 will be ignored. Current value: bagging_freq=6\n"
     ]
    }
   ],
   "source": [
    "lgbm_pred = lgbm.predict(test_data_final)"
   ]
  },
  {
   "cell_type": "markdown",
   "metadata": {},
   "source": [
    "## Etapa 3 - Gerando os Arquivos Para Submissão"
   ]
  },
  {
   "cell_type": "code",
   "execution_count": 25,
   "metadata": {},
   "outputs": [
    {
     "data": {
      "text/html": [
       "<div>\n",
       "<style scoped>\n",
       "    .dataframe tbody tr th:only-of-type {\n",
       "        vertical-align: middle;\n",
       "    }\n",
       "\n",
       "    .dataframe tbody tr th {\n",
       "        vertical-align: top;\n",
       "    }\n",
       "\n",
       "    .dataframe thead th {\n",
       "        text-align: right;\n",
       "    }\n",
       "</style>\n",
       "<table border=\"1\" class=\"dataframe\">\n",
       "  <thead>\n",
       "    <tr style=\"text-align: right;\">\n",
       "      <th></th>\n",
       "      <th>id</th>\n",
       "      <th>Rings</th>\n",
       "    </tr>\n",
       "  </thead>\n",
       "  <tbody>\n",
       "    <tr>\n",
       "      <th>0</th>\n",
       "      <td>90615</td>\n",
       "      <td>10</td>\n",
       "    </tr>\n",
       "  </tbody>\n",
       "</table>\n",
       "</div>"
      ],
      "text/plain": [
       "      id  Rings\n",
       "0  90615     10"
      ]
     },
     "execution_count": 25,
     "metadata": {},
     "output_type": "execute_result"
    }
   ],
   "source": [
    "pd.read_csv('./database/sample_submission.csv').head(1)"
   ]
  },
  {
   "cell_type": "markdown",
   "metadata": {},
   "source": [
    "* Grad Boosting"
   ]
  },
  {
   "cell_type": "code",
   "execution_count": 26,
   "metadata": {},
   "outputs": [],
   "source": [
    "sub_grad_boosting = pd.DataFrame(\n",
    "    data= {\n",
    "        'id' : test_id,\n",
    "        'Rings' : grad_boosting_pred\n",
    "    }\n",
    ").set_index('id')"
   ]
  },
  {
   "cell_type": "code",
   "execution_count": 27,
   "metadata": {},
   "outputs": [],
   "source": [
    "sub_grad_boosting['Rings'].to_csv('./submission/model1.csv')"
   ]
  },
  {
   "cell_type": "markdown",
   "metadata": {},
   "source": [
    "* LGBM"
   ]
  },
  {
   "cell_type": "code",
   "execution_count": 28,
   "metadata": {},
   "outputs": [],
   "source": [
    "sub_lgbm = pd.DataFrame(\n",
    "    data= {\n",
    "        'id' : test_id,\n",
    "        'Rings' : lgbm_pred\n",
    "    }\n",
    ").set_index('id')"
   ]
  },
  {
   "cell_type": "code",
   "execution_count": 29,
   "metadata": {},
   "outputs": [],
   "source": [
    "sub_lgbm['Rings'].to_csv('./submission/model2.csv')"
   ]
  }
 ],
 "metadata": {
  "kernelspec": {
   "display_name": "base",
   "language": "python",
   "name": "python3"
  },
  "language_info": {
   "codemirror_mode": {
    "name": "ipython",
    "version": 3
   },
   "file_extension": ".py",
   "mimetype": "text/x-python",
   "name": "python",
   "nbconvert_exporter": "python",
   "pygments_lexer": "ipython3",
   "version": "3.9.18"
  }
 },
 "nbformat": 4,
 "nbformat_minor": 2
}
